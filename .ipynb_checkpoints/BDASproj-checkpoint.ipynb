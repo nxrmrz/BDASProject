{
 "cells": [
  {
   "cell_type": "code",
   "execution_count": 1,
   "metadata": {},
   "outputs": [],
   "source": [
    "import findspark\n",
    "findspark.init('/home/ubuntu/spark-2.1.1-bin-hadoop2.7')\n",
    "import pyspark\n",
    "from pyspark import SparkConf, SparkContext\n",
    "from pyspark.sql import SparkSession\n",
    "spark = SparkSession.builder.appName('BDASProj').getOrCreate()"
   ]
  },
  {
   "cell_type": "code",
   "execution_count": 2,
   "metadata": {},
   "outputs": [
    {
     "data": {
      "text/plain": [
       "['YEAR',\n",
       " 'SAMPLE',\n",
       " 'SERIAL',\n",
       " 'CBSERIAL',\n",
       " 'HHWT',\n",
       " 'STATEICP',\n",
       " 'GQ',\n",
       " 'PERNUM',\n",
       " 'PERWT',\n",
       " 'SEX',\n",
       " 'AGE',\n",
       " 'MARST',\n",
       " 'RACE',\n",
       " 'RACED',\n",
       " 'EDUC',\n",
       " 'EDUCD',\n",
       " 'EMPSTAT',\n",
       " 'EMPSTATD',\n",
       " 'OCC',\n",
       " 'INCWAGE']"
      ]
     },
     "execution_count": 2,
     "metadata": {},
     "output_type": "execute_result"
    }
   ],
   "source": [
    "#reading it in\n",
    "df = spark.read.csv('/home/ubuntu/BDASProj/usa_00007.csv',header=True)\n",
    "df.columns"
   ]
  },
  {
   "cell_type": "code",
   "execution_count": 3,
   "metadata": {},
   "outputs": [
    {
     "name": "stdout",
     "output_type": "stream",
     "text": [
      "+---+---+-----+----+----+----+-------+\n",
      "|SEX|AGE|MARST|RACE|EDUC| OCC|INCWAGE|\n",
      "+---+---+-----+----+----+----+-------+\n",
      "|  2| 31|    6|   1|  10| 350|  38500|\n",
      "|  2| 37|    4|   2|   6| 230|  18000|\n",
      "|  1| 21|    6|   2|   7|4620|  15000|\n",
      "|  1| 20|    6|   2|   7|4120|   1200|\n",
      "|  1| 61|    2|   1|  10|1410| 160000|\n",
      "|  1| 62|    1|   2|  10| 430| 100000|\n",
      "|  2| 58|    1|   2|  10|4710| 344000|\n",
      "|  1| 30|    6|   2|  10|4710| 120000|\n",
      "|  1| 26|    6|   2|  10|4850|  50000|\n",
      "|  2| 55|    6|   1|   7|4500|      0|\n",
      "|  1| 54|    4|   1|  10|4840|  56000|\n",
      "|  1| 36|    4|   1|   6|9130|  24700|\n",
      "|  1| 50|    1|   1|  11|2200| 344000|\n",
      "|  2| 47|    1|   1|   6|2340|  10000|\n",
      "|  2| 47|    1|   2|   8|4510|  15000|\n",
      "|  1| 53|    1|   2|   8|4760|  30000|\n",
      "|  2| 26|    6|   1|   7|5220|  25000|\n",
      "|  1| 22|    6|   2|   7|8965|  29500|\n",
      "|  1| 48|    1|   1|   6|3740|  65000|\n",
      "|  2| 49|    1|   1|  10|3600|  65000|\n",
      "+---+---+-----+----+----+----+-------+\n",
      "only showing top 20 rows\n",
      "\n"
     ]
    },
    {
     "data": {
      "text/plain": [
       "['SEX', 'AGE', 'MARST', 'RACE', 'EDUC', 'OCC', 'INCWAGE']"
      ]
     },
     "execution_count": 3,
     "metadata": {},
     "output_type": "execute_result"
    }
   ],
   "source": [
    "#deleting unwanted columns, and setting up df schema\n",
    "from pyspark.sql.types import DoubleType\n",
    "\n",
    "#deleting columns and showing new df\n",
    "df2 = df.select([c for c in df.columns if c not in {'YEAR','SAMPLE',\"SERIAL\",\"CBSERIAL\",\"HHWT\",\"STATEICP\",\"GQ\",\"PERNUM\",\"PERWT\",\"RACED\",\"EDUCD\",\"EMPSTAT\",\"EMPSTATD\"}])\n",
    "df2.show()\n",
    "df2.columns"
   ]
  },
  {
   "cell_type": "code",
   "execution_count": 4,
   "metadata": {},
   "outputs": [
    {
     "name": "stdout",
     "output_type": "stream",
     "text": [
      "+------+---+-------------------+-----+--------------+----+-------+\n",
      "|   SEX|AGE|              MARST| RACE|          EDUC| OCC|INCWAGE|\n",
      "+------+---+-------------------+-----+--------------+----+-------+\n",
      "|Female| 31|NeverMarried-Single|White|4thYearCollege| 350|  38500|\n",
      "|Female| 37|          Separated|Black|    HighSchool| 230|  18000|\n",
      "|  Male| 21|NeverMarried-Single|Black|1stYearCollege|4620|  15000|\n",
      "|  Male| 20|NeverMarried-Single|Black|1stYearCollege|4120|   1200|\n",
      "|  Male| 61|            Married|White|4thYearCollege|1410| 160000|\n",
      "|  Male| 62|            Married|Black|4thYearCollege| 430| 100000|\n",
      "|Female| 58|            Married|Black|4thYearCollege|4710| 344000|\n",
      "|  Male| 30|NeverMarried-Single|Black|4thYearCollege|4710| 120000|\n",
      "|  Male| 26|NeverMarried-Single|Black|4thYearCollege|4850|  50000|\n",
      "|Female| 55|NeverMarried-Single|White|1stYearCollege|4500|      0|\n",
      "|  Male| 54|          Separated|White|4thYearCollege|4840|  56000|\n",
      "|  Male| 36|          Separated|White|    HighSchool|9130|  24700|\n",
      "|  Male| 50|            Married|White|5+YearsCollege|2200| 344000|\n",
      "|Female| 47|            Married|White|    HighSchool|2340|  10000|\n",
      "|Female| 47|            Married|Black|2ndYearCollege|4510|  15000|\n",
      "|  Male| 53|            Married|Black|2ndYearCollege|4760|  30000|\n",
      "|Female| 26|NeverMarried-Single|White|1stYearCollege|5220|  25000|\n",
      "|  Male| 22|NeverMarried-Single|Black|1stYearCollege|8965|  29500|\n",
      "|  Male| 48|            Married|White|    HighSchool|3740|  65000|\n",
      "|Female| 49|            Married|White|4thYearCollege|3600|  65000|\n",
      "+------+---+-------------------+-----+--------------+----+-------+\n",
      "only showing top 20 rows\n",
      "\n",
      "+--------------------+\n",
      "|                RACE|\n",
      "+--------------------+\n",
      "|Native-IndianOrAl...|\n",
      "|             Chinese|\n",
      "|            Japanese|\n",
      "|OtherAsianOrPacif...|\n",
      "|               White|\n",
      "|               Black|\n",
      "+--------------------+\n",
      "\n"
     ]
    }
   ],
   "source": [
    "#change values within columns (all except OCC)\n",
    "sexDict = {'1':'Male','2':'Female'} \n",
    "df2 = df2.na.replace(sexDict,1,\"SEX\")\n",
    "\n",
    "mDict = {'1':'Married','2':'Married','3':'Separated','4':'Separated','5':'Widowed','6':'NeverMarried-Single'}\n",
    "df2 = df2.na.replace(mDict,1,\"MARST\")\n",
    "\n",
    "rDict = {'1': \"White\", '2': \"Black\", '3': \"Native-IndianOrAlaskan\", '4': \"Chinese\", '5': \"Japanese\", '6': \"OtherAsianOrPacificIslander\"}\n",
    "df2 = df2.na.replace(rDict,1,\"RACE\")\n",
    "\n",
    "eDict = {'0': \"NoSchooling\", '1': \"NurseryToKinderGarten\", '2': \"MiddleSchool\", '3': \"HighSchool\", '4': \"HighSchool\", '5': \"HighSchool\", '6': \"HighSchool\",'7': \"1stYearCollege\", '8': \"2ndYearCollege\", '9': \"3rdYearCollege\", '10': \"4thYearCollege\", '11': \"5+YearsCollege\"}\n",
    "df2 = df2.na.replace(eDict,1,\"EDUC\")\n",
    "df2.show()\n",
    "\n",
    "#removing 7,8,9 from RACE (we dont consider those race codes)\n",
    "df2 = df2.filter('RACE not in (\"7\",\"8\",\"9\")')\n",
    "df2.select('RACE').distinct().show()"
   ]
  },
  {
   "cell_type": "code",
   "execution_count": 5,
   "metadata": {},
   "outputs": [],
   "source": [
    "#then retaining only non-zero INCWAGEs\n",
    "df2 = df2.filter(df2['INCWAGE']>0)"
   ]
  },
  {
   "cell_type": "code",
   "execution_count": 67,
   "metadata": {},
   "outputs": [
    {
     "ename": "NameError",
     "evalue": "name 'log' is not defined",
     "output_type": "error",
     "traceback": [
      "\u001b[0;31m---------------------------------------------------------------------------\u001b[0m",
      "\u001b[0;31mNameError\u001b[0m                                 Traceback (most recent call last)",
      "\u001b[0;32m<ipython-input-67-7b9171fdbcb8>\u001b[0m in \u001b[0;36m<module>\u001b[0;34m()\u001b[0m\n\u001b[0;32m----> 1\u001b[0;31m \u001b[0mdf2\u001b[0m \u001b[0;34m=\u001b[0m \u001b[0mdf2\u001b[0m\u001b[0;34m.\u001b[0m\u001b[0mwithColumn\u001b[0m\u001b[0;34m(\u001b[0m\u001b[0;34m\"INCWAGE_log\"\u001b[0m\u001b[0;34m,\u001b[0m \u001b[0mlog\u001b[0m\u001b[0;34m(\u001b[0m\u001b[0mdf2\u001b[0m\u001b[0;34m[\u001b[0m\u001b[0;34m\"INCWAGE\"\u001b[0m\u001b[0;34m]\u001b[0m\u001b[0;34m)\u001b[0m\u001b[0;34m)\u001b[0m\u001b[0;34m\u001b[0m\u001b[0m\n\u001b[0m",
      "\u001b[0;31mNameError\u001b[0m: name 'log' is not defined"
     ]
    }
   ],
   "source": []
  },
  {
   "cell_type": "code",
   "execution_count": 6,
   "metadata": {},
   "outputs": [
    {
     "name": "stdout",
     "output_type": "stream",
     "text": [
      "+------+---+-------------------+-----+--------------+------+-------+---------+\n",
      "|   SEX|AGE|              MARST| RACE|          EDUC|   OCC|INCWAGE|OCCRecode|\n",
      "+------+---+-------------------+-----+--------------+------+-------+---------+\n",
      "|Female| 31|NeverMarried-Single|White|4thYearCollege| 350.0|  38500|      0.0|\n",
      "|Female| 37|          Separated|Black|    HighSchool| 230.0|  18000|      0.0|\n",
      "|  Male| 21|NeverMarried-Single|Black|1stYearCollege|4620.0|  15000|      9.0|\n",
      "|  Male| 20|NeverMarried-Single|Black|1stYearCollege|4120.0|   1200|      9.0|\n",
      "|  Male| 61|            Married|White|4thYearCollege|1410.0| 160000|      2.0|\n",
      "|  Male| 62|            Married|Black|4thYearCollege| 430.0| 100000|      0.0|\n",
      "|Female| 58|            Married|Black|4thYearCollege|4710.0| 344000|     10.0|\n",
      "|  Male| 30|NeverMarried-Single|Black|4thYearCollege|4710.0| 120000|     10.0|\n",
      "|  Male| 26|NeverMarried-Single|Black|4thYearCollege|4850.0|  50000|     10.0|\n",
      "|  Male| 54|          Separated|White|4thYearCollege|4840.0|  56000|     10.0|\n",
      "|  Male| 36|          Separated|White|    HighSchool|9130.0|  24700|     13.0|\n",
      "|  Male| 50|            Married|White|5+YearsCollege|2200.0| 344000|      5.0|\n",
      "|Female| 47|            Married|White|    HighSchool|2340.0|  10000|      5.0|\n",
      "|Female| 47|            Married|Black|2ndYearCollege|4510.0|  15000|      9.0|\n",
      "|  Male| 53|            Married|Black|2ndYearCollege|4760.0|  30000|     10.0|\n",
      "|Female| 26|NeverMarried-Single|White|1stYearCollege|5220.0|  25000|     11.0|\n",
      "|  Male| 22|NeverMarried-Single|Black|1stYearCollege|8965.0|  29500|     13.0|\n",
      "|  Male| 48|            Married|White|    HighSchool|3740.0|  65000|      8.0|\n",
      "|Female| 49|            Married|White|4thYearCollege|3600.0|  65000|      7.0|\n",
      "|  Male| 60|            Married|White|5+YearsCollege|1020.0| 114000|      2.0|\n",
      "+------+---+-------------------+-----+--------------+------+-------+---------+\n",
      "only showing top 20 rows\n",
      "\n",
      "+---------+\n",
      "|OCCRecode|\n",
      "+---------+\n",
      "|      8.0|\n",
      "|      0.0|\n",
      "|      7.0|\n",
      "|      1.0|\n",
      "|      4.0|\n",
      "|     11.0|\n",
      "|     14.0|\n",
      "|      3.0|\n",
      "|      2.0|\n",
      "|     10.0|\n",
      "|     13.0|\n",
      "|      6.0|\n",
      "|      5.0|\n",
      "|      9.0|\n",
      "|     12.0|\n",
      "+---------+\n",
      "\n"
     ]
    }
   ],
   "source": [
    "#Monumental Task: Reclassifying OCC\n",
    "from pyspark.ml.feature import Bucketizer\n",
    "\n",
    "#first convert stringtype of occrecode to doubletype\n",
    "df2 = df2.withColumn(\"OCC\", df2[\"OCC\"].cast(DoubleType()))\n",
    "\n",
    "#then reclassify\n",
    "bucketizer = Bucketizer(splits=[0,741,951,1966,2060,2161,2551,2921,3656,3956,4651,4966,5941,6131,9751,9921],\n",
    "                       inputCol=\"OCC\",outputCol=\"OCCRecode\")\n",
    "df2_buck = bucketizer.setHandleInvalid(\"keep\").transform(df2)\n",
    "\n",
    "#showing the occrecode column, as well as the number of distinct values (Showing it Worked!)\n",
    "df2_buck.show()\n",
    "df2_buck.select(\"OCCRecode\").distinct().show()\n"
   ]
  },
  {
   "cell_type": "code",
   "execution_count": 7,
   "metadata": {},
   "outputs": [
    {
     "name": "stdout",
     "output_type": "stream",
     "text": [
      "+--------------+\n",
      "|     OCCRecode|\n",
      "+--------------+\n",
      "|     Education|\n",
      "|         Sales|\n",
      "|    Healthcare|\n",
      "|  PublicSector|\n",
      "|       Finance|\n",
      "|         Media|\n",
      "|          STEM|\n",
      "|   Hospitality|\n",
      "|Administration|\n",
      "|           Law|\n",
      "|      Business|\n",
      "|        Trades|\n",
      "+--------------+\n",
      "\n"
     ]
    }
   ],
   "source": [
    "#continuing...\n",
    "from pyspark.sql.types import StringType\n",
    "from pyspark.sql.functions import udf\n",
    "\n",
    "t = {0.0:'Business',1.0:'Finance',2.0:'STEM',3.0:'PublicSector',4.0:'Law',\n",
    "     5.0:'Education',6.0:'Media',7.0:'Healthcare',8.0:'PublicSector',9.0:\n",
    "     'Hospitality',10.0:'Sales',11.0:'Administration',12.0:'STEM',13.0:'Trades',14.0:'PublicSector'}\n",
    "udf_foo = udf(lambda x: t[x], StringType())\n",
    "df3 = df2_buck.withColumn('OCCRecode',udf_foo(\"OCCRecode\"))\n",
    "\n",
    "#showing the new recoded occupations\n",
    "df3.select(\"OCCRecode\").distinct().show()"
   ]
  },
  {
   "cell_type": "code",
   "execution_count": 8,
   "metadata": {},
   "outputs": [
    {
     "name": "stdout",
     "output_type": "stream",
     "text": [
      "+-------------------+\n",
      "|              MARST|\n",
      "+-------------------+\n",
      "|          Separated|\n",
      "|NeverMarried-Single|\n",
      "|            Married|\n",
      "|            Widowed|\n",
      "+-------------------+\n",
      "\n"
     ]
    }
   ],
   "source": [
    "#showing levels of each categorical value\n",
    "df3.select(\"MARST\").distinct().show()"
   ]
  },
  {
   "cell_type": "code",
   "execution_count": 9,
   "metadata": {},
   "outputs": [
    {
     "name": "stdout",
     "output_type": "stream",
     "text": [
      "+--------------------+\n",
      "|                RACE|\n",
      "+--------------------+\n",
      "|Native-IndianOrAl...|\n",
      "|             Chinese|\n",
      "|            Japanese|\n",
      "|OtherAsianOrPacif...|\n",
      "|               White|\n",
      "|               Black|\n",
      "+--------------------+\n",
      "\n"
     ]
    }
   ],
   "source": [
    "df3.select(\"RACE\").distinct().show()"
   ]
  },
  {
   "cell_type": "code",
   "execution_count": 10,
   "metadata": {},
   "outputs": [
    {
     "name": "stdout",
     "output_type": "stream",
     "text": [
      "+--------------------+\n",
      "|                EDUC|\n",
      "+--------------------+\n",
      "|      5+YearsCollege|\n",
      "|          HighSchool|\n",
      "|      1stYearCollege|\n",
      "|NurseryToKinderGa...|\n",
      "|        MiddleSchool|\n",
      "|      2ndYearCollege|\n",
      "|         NoSchooling|\n",
      "|      4thYearCollege|\n",
      "+--------------------+\n",
      "\n"
     ]
    }
   ],
   "source": [
    "df3.select(\"EDUC\").distinct().show()"
   ]
  },
  {
   "cell_type": "code",
   "execution_count": 11,
   "metadata": {},
   "outputs": [
    {
     "name": "stdout",
     "output_type": "stream",
     "text": [
      "+--------------+\n",
      "|     OCCRecode|\n",
      "+--------------+\n",
      "|     Education|\n",
      "|         Sales|\n",
      "|    Healthcare|\n",
      "|  PublicSector|\n",
      "|       Finance|\n",
      "|         Media|\n",
      "|          STEM|\n",
      "|   Hospitality|\n",
      "|Administration|\n",
      "|           Law|\n",
      "|      Business|\n",
      "|        Trades|\n",
      "+--------------+\n",
      "\n"
     ]
    }
   ],
   "source": [
    "df3.select(\"OCCRecode\").distinct().show()"
   ]
  },
  {
   "cell_type": "code",
   "execution_count": 12,
   "metadata": {},
   "outputs": [
    {
     "name": "stdout",
     "output_type": "stream",
     "text": [
      "+------+---+-------------------+-----+--------------+------+-------+--------------+--------------+\n",
      "|   SEX|AGE|              MARST| RACE|          EDUC|   OCC|INCWAGE|     OCCRecode|     M_MedWage|\n",
      "+------+---+-------------------+-----+--------------+------+-------+--------------+--------------+\n",
      "|Female| 31|NeverMarried-Single|White|4thYearCollege| 350.0|  38500|      Business|      Business|\n",
      "|Female| 37|          Separated|Black|    HighSchool| 230.0|  18000|      Business|      Business|\n",
      "|  Male| 21|NeverMarried-Single|Black|1stYearCollege|4620.0|  15000|   Hospitality|   Hospitality|\n",
      "|  Male| 20|NeverMarried-Single|Black|1stYearCollege|4120.0|   1200|   Hospitality|   Hospitality|\n",
      "|  Male| 61|            Married|White|4thYearCollege|1410.0| 160000|          STEM|          STEM|\n",
      "|  Male| 62|            Married|Black|4thYearCollege| 430.0| 100000|      Business|      Business|\n",
      "|Female| 58|            Married|Black|4thYearCollege|4710.0| 344000|         Sales|         Sales|\n",
      "|  Male| 30|NeverMarried-Single|Black|4thYearCollege|4710.0| 120000|         Sales|         Sales|\n",
      "|  Male| 26|NeverMarried-Single|Black|4thYearCollege|4850.0|  50000|         Sales|         Sales|\n",
      "|  Male| 54|          Separated|White|4thYearCollege|4840.0|  56000|         Sales|         Sales|\n",
      "|  Male| 36|          Separated|White|    HighSchool|9130.0|  24700|        Trades|        Trades|\n",
      "|  Male| 50|            Married|White|5+YearsCollege|2200.0| 344000|     Education|     Education|\n",
      "|Female| 47|            Married|White|    HighSchool|2340.0|  10000|     Education|     Education|\n",
      "|Female| 47|            Married|Black|2ndYearCollege|4510.0|  15000|   Hospitality|   Hospitality|\n",
      "|  Male| 53|            Married|Black|2ndYearCollege|4760.0|  30000|         Sales|         Sales|\n",
      "|Female| 26|NeverMarried-Single|White|1stYearCollege|5220.0|  25000|Administration|Administration|\n",
      "|  Male| 22|NeverMarried-Single|Black|1stYearCollege|8965.0|  29500|        Trades|        Trades|\n",
      "|  Male| 48|            Married|White|    HighSchool|3740.0|  65000|  PublicSector|  PublicSector|\n",
      "|Female| 49|            Married|White|4thYearCollege|3600.0|  65000|    Healthcare|    Healthcare|\n",
      "|  Male| 60|            Married|White|5+YearsCollege|1020.0| 114000|          STEM|          STEM|\n",
      "+------+---+-------------------+-----+--------------+------+-------+--------------+--------------+\n",
      "only showing top 20 rows\n",
      "\n"
     ]
    }
   ],
   "source": [
    "#now we add a column for male median grouped by OCCRecode\n",
    "df3 = df3.withColumn(\"M_MedWage\",df3[\"OCCRecode\"])\n",
    "df3.show()"
   ]
  },
  {
   "cell_type": "markdown",
   "metadata": {},
   "source": []
  },
  {
   "cell_type": "code",
   "execution_count": 13,
   "metadata": {},
   "outputs": [],
   "source": [
    "#then putting in values for median wage\n",
    "medWageMap={\n",
    "    'Administration':'32000',\n",
    "    'Business':'80000',\n",
    "    'Education':'47500',\n",
    "    'Healthcare':'67000',\n",
    "    'Hospitality':'18000',\n",
    "    'Law':'85000',\n",
    "    'Media':'35000',\n",
    "    'PublicSector':'46850',\n",
    "    'STEM':'73500',\n",
    "    'Sales':'42000',\n",
    "    'Trades':'36000',\n",
    "    'Finance':'97000'\n",
    "}\n",
    "df3 = df3.na.replace(medWageMap,1,\"M_MedWage\")\n",
    "df3 = df3.drop(\"OCC\")"
   ]
  },
  {
   "cell_type": "code",
   "execution_count": 14,
   "metadata": {},
   "outputs": [],
   "source": [
    "#deriving the pay gap ratio column\n",
    "df3 = df3.withColumn(\"PayGapRatio\",df3['INCWAGE']/df3['M_MedWage'])\n",
    "\n",
    "#selecting only females\n",
    "df3 = df3.filter(df3['SEX']=='Female')"
   ]
  },
  {
   "cell_type": "code",
   "execution_count": 15,
   "metadata": {},
   "outputs": [
    {
     "name": "stdout",
     "output_type": "stream",
     "text": [
      "(297708, 9)\n"
     ]
    }
   ],
   "source": [
    "print((df3.count(), len(df3.columns)))"
   ]
  },
  {
   "cell_type": "code",
   "execution_count": 16,
   "metadata": {},
   "outputs": [],
   "source": [
    "#then reclassify\n",
    "pGRatioBucket = Bucketizer(splits=[0, 0.33, 0.66, 0.99, 1.0, float('Inf')],\n",
    "                       inputCol=\"PayGapRatio\",outputCol=\"payGapClass\")"
   ]
  },
  {
   "cell_type": "code",
   "execution_count": 17,
   "metadata": {},
   "outputs": [
    {
     "name": "stdout",
     "output_type": "stream",
     "text": [
      "+-----------+\n",
      "|payGapClass|\n",
      "+-----------+\n",
      "|        0.0|\n",
      "|        1.0|\n",
      "|        4.0|\n",
      "|        3.0|\n",
      "|        2.0|\n",
      "+-----------+\n",
      "\n"
     ]
    }
   ],
   "source": [
    "df3_buck = pGRatioBucket.setHandleInvalid(\"keep\").transform(df3)\n",
    "df3_buck.select(\"payGapClass\").distinct().show()"
   ]
  },
  {
   "cell_type": "code",
   "execution_count": 18,
   "metadata": {},
   "outputs": [
    {
     "name": "stdout",
     "output_type": "stream",
     "text": [
      "(297708, 6)\n"
     ]
    }
   ],
   "source": [
    "#remove columns we're not interested in\n",
    "df4_regressor = df3.select(\"AGE\",\"MARST\",\"RACE\",\"EDUC\",\"OCCRecode\",\"PayGapratio\")\n",
    "print((df4_regressor.count(), len(df4_regressor.columns)))"
   ]
  },
  {
   "cell_type": "code",
   "execution_count": 19,
   "metadata": {},
   "outputs": [
    {
     "name": "stdout",
     "output_type": "stream",
     "text": [
      "+-------+------------------+\n",
      "|summary|       PayGapRatio|\n",
      "+-------+------------------+\n",
      "|  count|            297708|\n",
      "|   mean|0.9207429899822778|\n",
      "| stddev|0.9232310566498757|\n",
      "|    min|            5.0E-5|\n",
      "|    max| 35.44444444444444|\n",
      "+-------+------------------+\n",
      "\n"
     ]
    }
   ],
   "source": [
    "df4_regressor.select(\"PayGapRatio\").describe().show()"
   ]
  },
  {
   "cell_type": "code",
   "execution_count": 20,
   "metadata": {},
   "outputs": [],
   "source": [
    "from pyspark.ml import Pipeline\n",
    "from pyspark.ml.feature import StringIndexer, OneHotEncoder, VectorAssembler"
   ]
  },
  {
   "cell_type": "code",
   "execution_count": 21,
   "metadata": {},
   "outputs": [],
   "source": [
    "cat_cols = [\"MARST\",\"RACE\",\"EDUC\",\"OCCRecode\"]\n",
    "num_cols = [\"AGE\"]"
   ]
  },
  {
   "cell_type": "code",
   "execution_count": 22,
   "metadata": {},
   "outputs": [],
   "source": [
    "#building indexers and encoders for cat variables\n",
    "indexers = [StringIndexer(inputCol = c, outputCol=\"{0}_i\".format(c)) for c in cat_cols]\n",
    "encoders = [OneHotEncoder(inputCol = indexer.getOutputCol(), outputCol = \"{0}_e\".format(indexer.getOutputCol())) \n",
    "for indexer in indexers]"
   ]
  },
  {
   "cell_type": "code",
   "execution_count": 23,
   "metadata": {},
   "outputs": [],
   "source": [
    "#assembler for cat\n",
    "assemblerCat = VectorAssembler(inputCols = [encoder.getOutputCol() for encoder in encoders], outputCol = \"cat\")\n",
    "#pipeline for cat\n",
    "pipelineCat = Pipeline(stages = indexers + encoders + [assemblerCat])\n",
    "df4_regressor = pipelineCat.fit(df4_regressor).transform(df4_regressor)"
   ]
  },
  {
   "cell_type": "code",
   "execution_count": 24,
   "metadata": {},
   "outputs": [
    {
     "name": "stdout",
     "output_type": "stream",
     "text": [
      "+---+-------------------+-----+--------------+-----------+-------------------+-------+------+------+-----------+-------------+-------------+-------------+--------------+--------------------+\n",
      "|AGE|              MARST| RACE|          EDUC|  OCCRecode|        PayGapratio|MARST_i|RACE_i|EDUC_i|OCCRecode_i|    MARST_i_e|     RACE_i_e|     EDUC_i_e| OCCRecode_i_e|                 cat|\n",
      "+---+-------------------+-----+--------------+-----------+-------------------+-------+------+------+-----------+-------------+-------------+-------------+--------------+--------------------+\n",
      "| 31|NeverMarried-Single|White|4thYearCollege|   Business|            0.48125|    1.0|   0.0|   1.0|        2.0|(3,[1],[1.0])|(5,[0],[1.0])|(7,[1],[1.0])|(11,[2],[1.0])|(26,[1,3,9,17],[1...|\n",
      "| 37|          Separated|Black|    HighSchool|   Business|              0.225|    2.0|   1.0|   0.0|        2.0|(3,[2],[1.0])|(5,[1],[1.0])|(7,[0],[1.0])|(11,[2],[1.0])|(26,[2,4,8,17],[1...|\n",
      "| 58|            Married|Black|4thYearCollege|      Sales|   8.19047619047619|    0.0|   1.0|   1.0|        5.0|(3,[0],[1.0])|(5,[1],[1.0])|(7,[1],[1.0])|(11,[5],[1.0])|(26,[0,4,9,20],[1...|\n",
      "| 47|            Married|White|    HighSchool|  Education|0.21052631578947367|    0.0|   0.0|   0.0|        4.0|(3,[0],[1.0])|(5,[0],[1.0])|(7,[0],[1.0])|(11,[4],[1.0])|(26,[0,3,8,19],[1...|\n",
      "| 47|            Married|Black|2ndYearCollege|Hospitality| 0.8333333333333334|    0.0|   1.0|   4.0|        3.0|(3,[0],[1.0])|(5,[1],[1.0])|(7,[4],[1.0])|(11,[3],[1.0])|(26,[0,4,12,18],[...|\n",
      "+---+-------------------+-----+--------------+-----------+-------------------+-------+------+------+-----------+-------------+-------------+-------------+--------------+--------------------+\n",
      "only showing top 5 rows\n",
      "\n"
     ]
    }
   ],
   "source": [
    "df4_regressor.show(5)"
   ]
  },
  {
   "cell_type": "code",
   "execution_count": 25,
   "metadata": {},
   "outputs": [
    {
     "name": "stdout",
     "output_type": "stream",
     "text": [
      "+-----+------+-------------+\n",
      "| RACE|RACE_i|     RACE_i_e|\n",
      "+-----+------+-------------+\n",
      "|White|   0.0|(5,[0],[1.0])|\n",
      "|Black|   1.0|(5,[1],[1.0])|\n",
      "+-----+------+-------------+\n",
      "only showing top 2 rows\n",
      "\n"
     ]
    }
   ],
   "source": [
    "df4_regressor.select(\"RACE\",\"RACE_i\",\"RACE_i_e\").show(2)"
   ]
  },
  {
   "cell_type": "code",
   "execution_count": 26,
   "metadata": {},
   "outputs": [
    {
     "data": {
      "text/plain": [
       "<bound method DataFrame.printSchema of DataFrame[AGE: int, MARST: string, RACE: string, EDUC: string, OCCRecode: string, PayGapratio: double, MARST_i: double, RACE_i: double, EDUC_i: double, OCCRecode_i: double, MARST_i_e: vector, RACE_i_e: vector, EDUC_i_e: vector, OCCRecode_i_e: vector, cat: vector]>"
      ]
     },
     "execution_count": 26,
     "metadata": {},
     "output_type": "execute_result"
    }
   ],
   "source": [
    "from pyspark.sql.types import IntegerType\n",
    "df4_regressor = df4_regressor.withColumn(\"AGE\", df4_regressor[\"AGE\"].cast(IntegerType()))\n",
    "df4_regressor.printSchema"
   ]
  },
  {
   "cell_type": "code",
   "execution_count": 27,
   "metadata": {},
   "outputs": [],
   "source": [
    "#building assembler for num \n",
    "assemblerNum = VectorAssembler(inputCols = num_cols, outputCol = \"num\")\n",
    "pipelineNum = Pipeline(stages = [assemblerNum])\n",
    "df4_regressor = pipelineNum.fit(df4_regressor).transform(df4_regressor)"
   ]
  },
  {
   "cell_type": "code",
   "execution_count": 28,
   "metadata": {},
   "outputs": [],
   "source": [
    "#combining cat and num assemblers\n",
    "assembler = VectorAssembler(inputCols = [\"cat\", \"num\"], outputCol = \"features\")"
   ]
  },
  {
   "cell_type": "code",
   "execution_count": 29,
   "metadata": {},
   "outputs": [],
   "source": [
    "#into the pipeline\n",
    "pipeline = Pipeline(stages = [assembler])"
   ]
  },
  {
   "cell_type": "code",
   "execution_count": 30,
   "metadata": {},
   "outputs": [],
   "source": [
    "#creating new df with both cat and num as features\n",
    "df_temp = pipeline.fit(df4_regressor).transform(df4_regressor)\n",
    "df_f = df_temp.select(\"features\",\"payGapratio\")"
   ]
  },
  {
   "cell_type": "code",
   "execution_count": 31,
   "metadata": {},
   "outputs": [
    {
     "name": "stdout",
     "output_type": "stream",
     "text": [
      "+--------------------+-----------+\n",
      "|            features|payGapratio|\n",
      "+--------------------+-----------+\n",
      "|(27,[1,3,9,17,26]...|    0.48125|\n",
      "|(27,[2,4,8,17,26]...|      0.225|\n",
      "+--------------------+-----------+\n",
      "only showing top 2 rows\n",
      "\n"
     ]
    }
   ],
   "source": [
    "df_f.show(2)"
   ]
  },
  {
   "cell_type": "code",
   "execution_count": 32,
   "metadata": {},
   "outputs": [
    {
     "name": "stdout",
     "output_type": "stream",
     "text": [
      "+---+-------------------+-----+--------------+---------+----------------+-------+------+------+-----------+-------------+-------------+-------------+--------------+--------------------+------+\n",
      "|AGE|              MARST| RACE|          EDUC|OCCRecode|     PayGapratio|MARST_i|RACE_i|EDUC_i|OCCRecode_i|    MARST_i_e|     RACE_i_e|     EDUC_i_e| OCCRecode_i_e|                 cat|   num|\n",
      "+---+-------------------+-----+--------------+---------+----------------+-------+------+------+-----------+-------------+-------------+-------------+--------------+--------------------+------+\n",
      "| 31|NeverMarried-Single|White|4thYearCollege| Business|         0.48125|    1.0|   0.0|   1.0|        2.0|(3,[1],[1.0])|(5,[0],[1.0])|(7,[1],[1.0])|(11,[2],[1.0])|(26,[1,3,9,17],[1...|[31.0]|\n",
      "| 37|          Separated|Black|    HighSchool| Business|           0.225|    2.0|   1.0|   0.0|        2.0|(3,[2],[1.0])|(5,[1],[1.0])|(7,[0],[1.0])|(11,[2],[1.0])|(26,[2,4,8,17],[1...|[37.0]|\n",
      "| 58|            Married|Black|4thYearCollege|    Sales|8.19047619047619|    0.0|   1.0|   1.0|        5.0|(3,[0],[1.0])|(5,[1],[1.0])|(7,[1],[1.0])|(11,[5],[1.0])|(26,[0,4,9,20],[1...|[58.0]|\n",
      "+---+-------------------+-----+--------------+---------+----------------+-------+------+------+-----------+-------------+-------------+-------------+--------------+--------------------+------+\n",
      "only showing top 3 rows\n",
      "\n"
     ]
    }
   ],
   "source": [
    "df4_regressor.show(3)"
   ]
  },
  {
   "cell_type": "code",
   "execution_count": 33,
   "metadata": {},
   "outputs": [
    {
     "data": {
      "text/plain": [
       "['AGE',\n",
       " 'MARST',\n",
       " 'RACE',\n",
       " 'EDUC',\n",
       " 'OCCRecode',\n",
       " 'PayGapratio',\n",
       " 'MARST_i',\n",
       " 'RACE_i',\n",
       " 'EDUC_i',\n",
       " 'OCCRecode_i',\n",
       " 'MARST_i_e',\n",
       " 'RACE_i_e',\n",
       " 'EDUC_i_e',\n",
       " 'OCCRecode_i_e',\n",
       " 'cat',\n",
       " 'num']"
      ]
     },
     "execution_count": 33,
     "metadata": {},
     "output_type": "execute_result"
    }
   ],
   "source": [
    "df4_regressor.columns"
   ]
  },
  {
   "cell_type": "code",
   "execution_count": 34,
   "metadata": {},
   "outputs": [],
   "source": [
    "#creating training and test data\n",
    "trainingData,testData = df_f.randomSplit([0.7,0.3])"
   ]
  },
  {
   "cell_type": "code",
   "execution_count": 35,
   "metadata": {},
   "outputs": [
    {
     "data": {
      "text/plain": [
       "['features', 'payGapratio']"
      ]
     },
     "execution_count": 35,
     "metadata": {},
     "output_type": "execute_result"
    }
   ],
   "source": [
    "trainingData.columns"
   ]
  },
  {
   "cell_type": "code",
   "execution_count": 36,
   "metadata": {},
   "outputs": [],
   "source": [
    "#import regressor models\n",
    "from pyspark.ml.regression import RandomForestRegressor, DecisionTreeRegressor,GBTRegressor"
   ]
  },
  {
   "cell_type": "code",
   "execution_count": 37,
   "metadata": {},
   "outputs": [],
   "source": [
    "#building our models\n",
    "rf = RandomForestRegressor(labelCol=\"payGapratio\",featuresCol=\"features\")\n",
    "dt = DecisionTreeRegressor(labelCol=\"payGapratio\",featuresCol=\"features\")\n",
    "gbt = GBTRegressor(labelCol=\"payGapratio\",featuresCol=\"features\")"
   ]
  },
  {
   "cell_type": "code",
   "execution_count": 38,
   "metadata": {},
   "outputs": [],
   "source": [
    "#fitting our models onto training data\n",
    "rf_model = rf.fit(trainingData)"
   ]
  },
  {
   "cell_type": "code",
   "execution_count": 39,
   "metadata": {},
   "outputs": [],
   "source": [
    "dt_model = dt.fit(trainingData)"
   ]
  },
  {
   "cell_type": "code",
   "execution_count": 40,
   "metadata": {},
   "outputs": [],
   "source": [
    "gbt_model = gbt.fit(trainingData)"
   ]
  },
  {
   "cell_type": "code",
   "execution_count": 41,
   "metadata": {},
   "outputs": [],
   "source": [
    "#make predictions\n",
    "rf_predict = rf_model.transform(testData)\n",
    "dt_predict = dt_model.transform(testData)\n",
    "gbt_predict = gbt_model.transform(testData)"
   ]
  },
  {
   "cell_type": "code",
   "execution_count": 42,
   "metadata": {},
   "outputs": [],
   "source": [
    "from pyspark.ml.evaluation import RegressionEvaluator"
   ]
  },
  {
   "cell_type": "code",
   "execution_count": 43,
   "metadata": {},
   "outputs": [
    {
     "data": {
      "text/plain": [
       "DataFrame[prediction: double, payGapratio: double, features: vector]"
      ]
     },
     "execution_count": 43,
     "metadata": {},
     "output_type": "execute_result"
    }
   ],
   "source": [
    "#how do we show an example prediction, features, and label dataframe?\n",
    "rf_predict.select(\"prediction\",\"payGapratio\",\"features\")"
   ]
  },
  {
   "cell_type": "code",
   "execution_count": 44,
   "metadata": {},
   "outputs": [],
   "source": [
    "#evaluating our models\n",
    "eval_RMSE = RegressionEvaluator(labelCol=\"payGapratio\",predictionCol=\"prediction\",metricName=\"rmse\")\n",
    "eval_r2 = RegressionEvaluator(labelCol=\"payGapratio\",predictionCol=\"prediction\",metricName=\"r2\")"
   ]
  },
  {
   "cell_type": "code",
   "execution_count": 45,
   "metadata": {},
   "outputs": [],
   "source": [
    "rf_rmse = eval_RMSE.evaluate(rf_predict)\n",
    "rf_r2 = eval_r2.evaluate(rf_predict)"
   ]
  },
  {
   "cell_type": "code",
   "execution_count": 46,
   "metadata": {},
   "outputs": [],
   "source": [
    "dt_rmse = eval_RMSE.evaluate(dt_predict)\n",
    "dt_r2 = eval_r2.evaluate(dt_predict)"
   ]
  },
  {
   "cell_type": "code",
   "execution_count": 47,
   "metadata": {},
   "outputs": [],
   "source": [
    "gbt_rmse = eval_RMSE.evaluate(gbt_predict)\n",
    "gbt_r2 = eval_r2.evaluate(gbt_predict)"
   ]
  },
  {
   "cell_type": "code",
   "execution_count": 48,
   "metadata": {},
   "outputs": [
    {
     "name": "stdout",
     "output_type": "stream",
     "text": [
      "Root Mean Squared Error (RMSE) for the Ensemble Random Forest Model = 0.836189\n",
      "Root Mean Squared Error (RMSE) for the Single Decision Tree Model = 0.838698\n",
      "Root Mean Squared Error (RMSE) for the Ensemble Gradient Boosted Tree Model = 0.822554\n"
     ]
    }
   ],
   "source": [
    "print(\"Root Mean Squared Error (RMSE) for the Ensemble Random Forest Model = %g\" % rf_rmse)\n",
    "print(\"Root Mean Squared Error (RMSE) for the Single Decision Tree Model = %g\" % dt_rmse)\n",
    "print(\"Root Mean Squared Error (RMSE) for the Ensemble Gradient Boosted Tree Model = %g\" % gbt_rmse)"
   ]
  },
  {
   "cell_type": "code",
   "execution_count": 49,
   "metadata": {},
   "outputs": [
    {
     "name": "stdout",
     "output_type": "stream",
     "text": [
      "R^2 value for the Ensemble Random Forest Model = 0.13277\n",
      "R^2 value for the Single Decision Tree Model = 0.127558\n",
      "R^2 value for the Ensemble Gradient Boosted Tree Model = 0.160822\n"
     ]
    }
   ],
   "source": [
    "print(\"R^2 value for the Ensemble Random Forest Model = %g\" % rf_r2)\n",
    "print(\"R^2 value for the Single Decision Tree Model = %g\" % dt_r2)\n",
    "print(\"R^2 value for the Ensemble Gradient Boosted Tree Model = %g\" % gbt_r2)"
   ]
  },
  {
   "cell_type": "code",
   "execution_count": 50,
   "metadata": {},
   "outputs": [],
   "source": [
    "#feature importances\n",
    "importances = gbt_model.featureImportances"
   ]
  },
  {
   "cell_type": "code",
   "execution_count": 51,
   "metadata": {},
   "outputs": [],
   "source": [
    "from itertools import chain\n",
    "import pandas as pd"
   ]
  },
  {
   "cell_type": "code",
   "execution_count": 52,
   "metadata": {},
   "outputs": [],
   "source": [
    "attrs = sorted(\n",
    "    (attr[\"idx\"], attr[\"name\"]) for attr in (chain(*df_f\n",
    "        .schema[\"features\"]\n",
    "        .metadata[\"ml_attr\"][\"attrs\"].values())))"
   ]
  },
  {
   "cell_type": "code",
   "execution_count": 53,
   "metadata": {},
   "outputs": [
    {
     "data": {
      "text/plain": [
       "[('cat_MARST_i_e_Married', 0.06278461529472866),\n",
       " ('cat_MARST_i_e_NeverMarried-Single', 0.010318000622056754),\n",
       " ('cat_MARST_i_e_Separated', 0.00422746883457445),\n",
       " ('cat_RACE_i_e_White', 0.0071407891093855),\n",
       " ('cat_RACE_i_e_Black', 0.014900086242121465),\n",
       " ('cat_RACE_i_e_OtherAsianOrPacificIslander', 0.017649055738259666),\n",
       " ('cat_RACE_i_e_Chinese', 0.027469473955437557),\n",
       " ('cat_RACE_i_e_Native-IndianOrAlaskan', 0.0031984223373256633),\n",
       " ('cat_EDUC_i_e_HighSchool', 0.0448923411996094),\n",
       " ('cat_EDUC_i_e_4thYearCollege', 0.06170456383357535),\n",
       " ('cat_EDUC_i_e_1stYearCollege', 0.00641384518912657),\n",
       " ('cat_EDUC_i_e_5+YearsCollege', 0.08249482844642496),\n",
       " ('cat_EDUC_i_e_2ndYearCollege', 0.014451967326241058),\n",
       " ('cat_EDUC_i_e_MiddleSchool', 0.018876627038198833),\n",
       " ('cat_EDUC_i_e_NoSchooling', 0.024778264846938555),\n",
       " ('cat_OCCRecode_i_e_Administration', 0.02955175505176393),\n",
       " ('cat_OCCRecode_i_e_Healthcare', 0.02776048536190886),\n",
       " ('cat_OCCRecode_i_e_Business', 0.018752137102808052),\n",
       " ('cat_OCCRecode_i_e_Hospitality', 0.024574482485841542),\n",
       " ('cat_OCCRecode_i_e_Education', 0.033244641478109065),\n",
       " ('cat_OCCRecode_i_e_Sales', 0.052495552306170354),\n",
       " ('cat_OCCRecode_i_e_Trades', 0.043944071165839704),\n",
       " ('cat_OCCRecode_i_e_STEM', 0.004486313002418456),\n",
       " ('cat_OCCRecode_i_e_PublicSector', 0.0024402311734835528),\n",
       " ('cat_OCCRecode_i_e_Finance', 0.03575708320996825),\n",
       " ('cat_OCCRecode_i_e_Media', 0.06960459851816583),\n",
       " ('num_AGE', 0.25608829912951814)]"
      ]
     },
     "execution_count": 53,
     "metadata": {},
     "output_type": "execute_result"
    }
   ],
   "source": [
    "#displaying feature importances\n",
    "[(name, gbt_model.featureImportances[idx])\n",
    " for idx, name in attrs\n",
    " if gbt_model.featureImportances[idx]]"
   ]
  },
  {
   "cell_type": "code",
   "execution_count": 54,
   "metadata": {},
   "outputs": [
    {
     "name": "stdout",
     "output_type": "stream",
     "text": [
      "<bound method Params.explainParams of GBTRegressionModel (uid=GBTRegressor_493a8e95a99ad80c2367) with 20 trees>\n"
     ]
    }
   ],
   "source": [
    "print(gbt_model.explainParams)"
   ]
  },
  {
   "cell_type": "code",
   "execution_count": 55,
   "metadata": {},
   "outputs": [],
   "source": [
    "toTree = gbt_model.toDebugString"
   ]
  },
  {
   "cell_type": "code",
   "execution_count": 56,
   "metadata": {},
   "outputs": [
    {
     "name": "stdout",
     "output_type": "stream",
     "text": [
      "+------+---+-------------------+-----+--------------+-------+---------+---------+----------------+-----------+\n",
      "|   SEX|AGE|              MARST| RACE|          EDUC|INCWAGE|OCCRecode|M_MedWage|     PayGapRatio|payGapClass|\n",
      "+------+---+-------------------+-----+--------------+-------+---------+---------+----------------+-----------+\n",
      "|Female| 31|NeverMarried-Single|White|4thYearCollege|  38500| Business|    80000|         0.48125|        1.0|\n",
      "|Female| 37|          Separated|Black|    HighSchool|  18000| Business|    80000|           0.225|        0.0|\n",
      "|Female| 58|            Married|Black|4thYearCollege| 344000|    Sales|    42000|8.19047619047619|        4.0|\n",
      "+------+---+-------------------+-----+--------------+-------+---------+---------+----------------+-----------+\n",
      "only showing top 3 rows\n",
      "\n"
     ]
    }
   ],
   "source": [
    "df3_buck.show(3)"
   ]
  },
  {
   "cell_type": "code",
   "execution_count": 57,
   "metadata": {},
   "outputs": [],
   "source": [
    "#hyperparameter tuning\n",
    "from pyspark.ml.tuning import ParamGridBuilder\n",
    "from pyspark.ml.tuning import CrossValidator\n",
    "import numpy as np\n",
    "\n",
    "paramGrid = ParamGridBuilder() \\\n",
    "    .addGrid(rf.numTrees, [int(x) for x in np.linspace(start = 10, stop = 50, num = 3)]) \\\n",
    "    .addGrid(rf.maxDepth, [int(x) for x in np.linspace(start = 5, stop = 25, num = 3)]) \\\n",
    "    .build()"
   ]
  },
  {
   "cell_type": "code",
   "execution_count": 58,
   "metadata": {},
   "outputs": [],
   "source": [
    "pipeline = Pipeline(stages = [assembler,rf])"
   ]
  },
  {
   "cell_type": "code",
   "execution_count": 59,
   "metadata": {},
   "outputs": [],
   "source": [
    "crossval = CrossValidator(estimator=pipeline,\n",
    "                          estimatorParamMaps=paramGrid,\n",
    "                          evaluator=RegressionEvaluator(),\n",
    "                          numFolds=3)"
   ]
  },
  {
   "cell_type": "code",
   "execution_count": 60,
   "metadata": {},
   "outputs": [],
   "source": [
    "(trainingDataCV, testDataCV) = df_f.randomSplit([0.8, 0.2])"
   ]
  },
  {
   "cell_type": "code",
   "execution_count": 61,
   "metadata": {},
   "outputs": [],
   "source": [
    "pandasDF = pd.DataFrame(df_f.schema[\"features\"].metadata[\"ml_attr\"] \n",
    "[\"attrs\"][\"binary\"]+df_f.schema[\"features\"].metadata[\"ml_attr\"][\"attrs\"][\"numeric\"]).sort_values(\"idx\")"
   ]
  },
  {
   "cell_type": "code",
   "execution_count": 62,
   "metadata": {},
   "outputs": [],
   "source": [
    "import pandas as pd\n",
    "import json\n",
    "import bson"
   ]
  },
  {
   "cell_type": "code",
   "execution_count": 63,
   "metadata": {},
   "outputs": [
    {
     "data": {
      "text/html": [
       "<div>\n",
       "<style scoped>\n",
       "    .dataframe tbody tr th:only-of-type {\n",
       "        vertical-align: middle;\n",
       "    }\n",
       "\n",
       "    .dataframe tbody tr th {\n",
       "        vertical-align: top;\n",
       "    }\n",
       "\n",
       "    .dataframe thead th {\n",
       "        text-align: right;\n",
       "    }\n",
       "</style>\n",
       "<table border=\"1\" class=\"dataframe\">\n",
       "  <thead>\n",
       "    <tr style=\"text-align: right;\">\n",
       "      <th></th>\n",
       "      <th>idx</th>\n",
       "      <th>name</th>\n",
       "    </tr>\n",
       "  </thead>\n",
       "  <tbody>\n",
       "    <tr>\n",
       "      <th>0</th>\n",
       "      <td>0</td>\n",
       "      <td>cat_MARST_i_e_Married</td>\n",
       "    </tr>\n",
       "    <tr>\n",
       "      <th>1</th>\n",
       "      <td>1</td>\n",
       "      <td>cat_MARST_i_e_NeverMarried-Single</td>\n",
       "    </tr>\n",
       "    <tr>\n",
       "      <th>2</th>\n",
       "      <td>2</td>\n",
       "      <td>cat_MARST_i_e_Separated</td>\n",
       "    </tr>\n",
       "    <tr>\n",
       "      <th>3</th>\n",
       "      <td>3</td>\n",
       "      <td>cat_RACE_i_e_White</td>\n",
       "    </tr>\n",
       "    <tr>\n",
       "      <th>4</th>\n",
       "      <td>4</td>\n",
       "      <td>cat_RACE_i_e_Black</td>\n",
       "    </tr>\n",
       "    <tr>\n",
       "      <th>5</th>\n",
       "      <td>5</td>\n",
       "      <td>cat_RACE_i_e_OtherAsianOrPacificIslander</td>\n",
       "    </tr>\n",
       "    <tr>\n",
       "      <th>6</th>\n",
       "      <td>6</td>\n",
       "      <td>cat_RACE_i_e_Chinese</td>\n",
       "    </tr>\n",
       "    <tr>\n",
       "      <th>7</th>\n",
       "      <td>7</td>\n",
       "      <td>cat_RACE_i_e_Native-IndianOrAlaskan</td>\n",
       "    </tr>\n",
       "    <tr>\n",
       "      <th>8</th>\n",
       "      <td>8</td>\n",
       "      <td>cat_EDUC_i_e_HighSchool</td>\n",
       "    </tr>\n",
       "    <tr>\n",
       "      <th>9</th>\n",
       "      <td>9</td>\n",
       "      <td>cat_EDUC_i_e_4thYearCollege</td>\n",
       "    </tr>\n",
       "    <tr>\n",
       "      <th>10</th>\n",
       "      <td>10</td>\n",
       "      <td>cat_EDUC_i_e_1stYearCollege</td>\n",
       "    </tr>\n",
       "    <tr>\n",
       "      <th>11</th>\n",
       "      <td>11</td>\n",
       "      <td>cat_EDUC_i_e_5+YearsCollege</td>\n",
       "    </tr>\n",
       "    <tr>\n",
       "      <th>12</th>\n",
       "      <td>12</td>\n",
       "      <td>cat_EDUC_i_e_2ndYearCollege</td>\n",
       "    </tr>\n",
       "    <tr>\n",
       "      <th>13</th>\n",
       "      <td>13</td>\n",
       "      <td>cat_EDUC_i_e_MiddleSchool</td>\n",
       "    </tr>\n",
       "    <tr>\n",
       "      <th>14</th>\n",
       "      <td>14</td>\n",
       "      <td>cat_EDUC_i_e_NoSchooling</td>\n",
       "    </tr>\n",
       "    <tr>\n",
       "      <th>15</th>\n",
       "      <td>15</td>\n",
       "      <td>cat_OCCRecode_i_e_Administration</td>\n",
       "    </tr>\n",
       "    <tr>\n",
       "      <th>16</th>\n",
       "      <td>16</td>\n",
       "      <td>cat_OCCRecode_i_e_Healthcare</td>\n",
       "    </tr>\n",
       "    <tr>\n",
       "      <th>17</th>\n",
       "      <td>17</td>\n",
       "      <td>cat_OCCRecode_i_e_Business</td>\n",
       "    </tr>\n",
       "    <tr>\n",
       "      <th>18</th>\n",
       "      <td>18</td>\n",
       "      <td>cat_OCCRecode_i_e_Hospitality</td>\n",
       "    </tr>\n",
       "    <tr>\n",
       "      <th>19</th>\n",
       "      <td>19</td>\n",
       "      <td>cat_OCCRecode_i_e_Education</td>\n",
       "    </tr>\n",
       "    <tr>\n",
       "      <th>20</th>\n",
       "      <td>20</td>\n",
       "      <td>cat_OCCRecode_i_e_Sales</td>\n",
       "    </tr>\n",
       "    <tr>\n",
       "      <th>21</th>\n",
       "      <td>21</td>\n",
       "      <td>cat_OCCRecode_i_e_Trades</td>\n",
       "    </tr>\n",
       "    <tr>\n",
       "      <th>22</th>\n",
       "      <td>22</td>\n",
       "      <td>cat_OCCRecode_i_e_STEM</td>\n",
       "    </tr>\n",
       "    <tr>\n",
       "      <th>23</th>\n",
       "      <td>23</td>\n",
       "      <td>cat_OCCRecode_i_e_PublicSector</td>\n",
       "    </tr>\n",
       "    <tr>\n",
       "      <th>24</th>\n",
       "      <td>24</td>\n",
       "      <td>cat_OCCRecode_i_e_Finance</td>\n",
       "    </tr>\n",
       "    <tr>\n",
       "      <th>25</th>\n",
       "      <td>25</td>\n",
       "      <td>cat_OCCRecode_i_e_Media</td>\n",
       "    </tr>\n",
       "    <tr>\n",
       "      <th>26</th>\n",
       "      <td>26</td>\n",
       "      <td>num_AGE</td>\n",
       "    </tr>\n",
       "  </tbody>\n",
       "</table>\n",
       "</div>"
      ],
      "text/plain": [
       "    idx                                      name\n",
       "0     0                     cat_MARST_i_e_Married\n",
       "1     1         cat_MARST_i_e_NeverMarried-Single\n",
       "2     2                   cat_MARST_i_e_Separated\n",
       "3     3                        cat_RACE_i_e_White\n",
       "4     4                        cat_RACE_i_e_Black\n",
       "5     5  cat_RACE_i_e_OtherAsianOrPacificIslander\n",
       "6     6                      cat_RACE_i_e_Chinese\n",
       "7     7       cat_RACE_i_e_Native-IndianOrAlaskan\n",
       "8     8                   cat_EDUC_i_e_HighSchool\n",
       "9     9               cat_EDUC_i_e_4thYearCollege\n",
       "10   10               cat_EDUC_i_e_1stYearCollege\n",
       "11   11               cat_EDUC_i_e_5+YearsCollege\n",
       "12   12               cat_EDUC_i_e_2ndYearCollege\n",
       "13   13                 cat_EDUC_i_e_MiddleSchool\n",
       "14   14                  cat_EDUC_i_e_NoSchooling\n",
       "15   15          cat_OCCRecode_i_e_Administration\n",
       "16   16              cat_OCCRecode_i_e_Healthcare\n",
       "17   17                cat_OCCRecode_i_e_Business\n",
       "18   18             cat_OCCRecode_i_e_Hospitality\n",
       "19   19               cat_OCCRecode_i_e_Education\n",
       "20   20                   cat_OCCRecode_i_e_Sales\n",
       "21   21                  cat_OCCRecode_i_e_Trades\n",
       "22   22                    cat_OCCRecode_i_e_STEM\n",
       "23   23            cat_OCCRecode_i_e_PublicSector\n",
       "24   24                 cat_OCCRecode_i_e_Finance\n",
       "25   25                   cat_OCCRecode_i_e_Media\n",
       "26   26                                   num_AGE"
      ]
     },
     "execution_count": 63,
     "metadata": {},
     "output_type": "execute_result"
    }
   ],
   "source": [
    "pandasDF"
   ]
  },
  {
   "cell_type": "code",
   "execution_count": 64,
   "metadata": {},
   "outputs": [],
   "source": [
    "#defining the function to convert tree to JSON File\n",
    "def tree_json(tree):\n",
    "\t\tdata = []\n",
    "\t\tfor line in tree.splitlines() : \n",
    "\t\t\tif line.strip():\n",
    "\t\t\t\tline = line.strip()\n",
    "\t\t\t\tdata.append(line)\n",
    "\t\t\telse : break\n",
    "\t\t\tif not line : break\n",
    "\t\tres = []\n",
    "\t\tres.append({'name':'Root', 'children':parse(data[1:])})\n",
    "\t\twith open('/home/ubuntu/BDASProj/structure.json', 'w') as outfile:\n",
    "\t\t\tjson.dump(res[0], outfile)\n",
    "\t\tprint ('Conversion Success !')"
   ]
  },
  {
   "cell_type": "code",
   "execution_count": 65,
   "metadata": {},
   "outputs": [],
   "source": [
    "#defining the parse function useful for above\n",
    "def parse(lines):\n",
    "\t\tblock = []\n",
    "\t\twhile lines :\n",
    "\t\t\t\n",
    "\t\t\tif lines[0].startswith('If'):\n",
    "\t\t\t\tbl = ' '.join(lines.pop(0).split()[1:]).replace('(', '').replace(')', '')\n",
    "\t\t\t\tblock.append({'name':bl, 'children':parse(lines)})\n",
    "\t\t\t\t\n",
    "\t\t\t\t\n",
    "\t\t\t\tif lines[0].startswith('Else'):\n",
    "\t\t\t\t\tbe = ' '.join(lines.pop(0).split()[1:]).replace('(', '').replace(')', '')\n",
    "\t\t\t\t\tblock.append({'name':be, 'children':parse(lines)})\n",
    "\t\t\telif not lines[0].startswith(('If','Else')):\n",
    "\t\t\t\tblock2 = lines.pop(0)\n",
    "\t\t\t\tblock.append({'name':block2})\n",
    "\t\t\telse:\n",
    "\t\t\t\tbreak\t\n",
    "\t\treturn block"
   ]
  },
  {
   "cell_type": "code",
   "execution_count": 66,
   "metadata": {},
   "outputs": [
    {
     "name": "stdout",
     "output_type": "stream",
     "text": [
      "Conversion Success !\n"
     ]
    }
   ],
   "source": [
    "#converting results of the gbt_model.toDebugString() to JSON\n",
    "tree_json(toTree)"
   ]
  },
  {
   "cell_type": "code",
   "execution_count": 100,
   "metadata": {
    "scrolled": true
   },
   "outputs": [
    {
     "name": "stdout",
     "output_type": "stream",
     "text": [
      "(297708, 7)\n"
     ]
    }
   ],
   "source": [
    "df3 = df3.select(\"SEX\",\"AGE\",\"MARST\",\"RACE\",\"EDUC\",\"INCWAGE\",\"OCCRecode\")\n",
    "print((df3.count(), len(df3.columns)))"
   ]
  },
  {
   "cell_type": "code",
   "execution_count": 104,
   "metadata": {},
   "outputs": [],
   "source": [
    "#splitting dataframe and joining later on\n",
    "df1split = df3.select(\"SEX\",\"AGE\",\"MARST\",\"RACE\",\"EDUC\",\"OCCRecode\")"
   ]
  },
  {
   "cell_type": "code",
   "execution_count": 105,
   "metadata": {},
   "outputs": [
    {
     "name": "stdout",
     "output_type": "stream",
     "text": [
      "+------+---+-------------------+-----+--------------+-----------+\n",
      "|   SEX|AGE|              MARST| RACE|          EDUC|  OCCRecode|\n",
      "+------+---+-------------------+-----+--------------+-----------+\n",
      "|Female| 31|NeverMarried-Single|White|4thYearCollege|   Business|\n",
      "|Female| 37|          Separated|Black|    HighSchool|   Business|\n",
      "|Female| 58|            Married|Black|4thYearCollege|      Sales|\n",
      "|Female| 47|            Married|White|    HighSchool|  Education|\n",
      "|Female| 47|            Married|Black|2ndYearCollege|Hospitality|\n",
      "+------+---+-------------------+-----+--------------+-----------+\n",
      "only showing top 5 rows\n",
      "\n",
      "(297708, 6)\n"
     ]
    }
   ],
   "source": [
    "df1split.show(5)\n",
    "print((df1split.count(), len(df1split.columns)))"
   ]
  },
  {
   "cell_type": "code",
   "execution_count": 101,
   "metadata": {},
   "outputs": [
    {
     "name": "stdout",
     "output_type": "stream",
     "text": [
      "+---+-------+\n",
      "|AGE|INCWAGE|\n",
      "+---+-------+\n",
      "| 31|  38500|\n",
      "| 37|  18000|\n",
      "| 58| 344000|\n",
      "| 47|  10000|\n",
      "| 47|  15000|\n",
      "+---+-------+\n",
      "only showing top 5 rows\n",
      "\n",
      "(297708, 2)\n"
     ]
    }
   ],
   "source": [
    "df2split = df3.select(\"AGE\",\"INCWAGE\")\n",
    "df2split.show(5)\n",
    "print((df2split.count(), len(df2split.columns)))"
   ]
  },
  {
   "cell_type": "code",
   "execution_count": 93,
   "metadata": {},
   "outputs": [],
   "source": [
    "#joining the two dataframes i've split previously, on the mutual Age column\n",
    "dfcombined = df1split.join(df2split, df1split.AGE == df2split.AGE)"
   ]
  },
  {
   "cell_type": "code",
   "execution_count": 95,
   "metadata": {},
   "outputs": [
    {
     "name": "stdout",
     "output_type": "stream",
     "text": [
      "+------+---+-------------------+-----+--------------+---+-------+\n",
      "|   SEX|AGE|              MARST| RACE|          EDUC|AGE|INCWAGE|\n",
      "+------+---+-------------------+-----+--------------+---+-------+\n",
      "|Female| 31|NeverMarried-Single|White|4thYearCollege| 31|  28600|\n",
      "|Female| 31|NeverMarried-Single|White|4thYearCollege| 31|   3000|\n",
      "|Female| 31|NeverMarried-Single|White|4thYearCollege| 31|  35000|\n",
      "|Female| 31|NeverMarried-Single|White|4thYearCollege| 31|  20000|\n",
      "|Female| 31|NeverMarried-Single|White|4thYearCollege| 31|  28000|\n",
      "+------+---+-------------------+-----+--------------+---+-------+\n",
      "only showing top 5 rows\n",
      "\n"
     ]
    }
   ],
   "source": [
    "dfcombined.show(5)"
   ]
  },
  {
   "cell_type": "code",
   "execution_count": 94,
   "metadata": {},
   "outputs": [
    {
     "ename": "KeyboardInterrupt",
     "evalue": "",
     "output_type": "error",
     "traceback": [
      "\u001b[0;31m---------------------------------------------------------------------------\u001b[0m",
      "\u001b[0;31mKeyboardInterrupt\u001b[0m                         Traceback (most recent call last)",
      "\u001b[0;32m<ipython-input-94-ef87cf5630fb>\u001b[0m in \u001b[0;36m<module>\u001b[0;34m()\u001b[0m\n\u001b[0;32m----> 1\u001b[0;31m \u001b[0mprint\u001b[0m\u001b[0;34m(\u001b[0m\u001b[0mdfcombined\u001b[0m\u001b[0;34m.\u001b[0m\u001b[0mcount\u001b[0m\u001b[0;34m(\u001b[0m\u001b[0;34m)\u001b[0m\u001b[0;34m,\u001b[0m\u001b[0mlen\u001b[0m\u001b[0;34m(\u001b[0m\u001b[0mdfcombined\u001b[0m\u001b[0;34m.\u001b[0m\u001b[0mcolumns\u001b[0m\u001b[0;34m)\u001b[0m\u001b[0;34m)\u001b[0m\u001b[0;34m\u001b[0m\u001b[0m\n\u001b[0m",
      "\u001b[0;32m~/spark-2.1.1-bin-hadoop2.7/python/pyspark/sql/dataframe.py\u001b[0m in \u001b[0;36mcount\u001b[0;34m(self)\u001b[0m\n\u001b[1;32m    378\u001b[0m         \u001b[0;36m2\u001b[0m\u001b[0;34m\u001b[0m\u001b[0m\n\u001b[1;32m    379\u001b[0m         \"\"\"\n\u001b[0;32m--> 380\u001b[0;31m         \u001b[0;32mreturn\u001b[0m \u001b[0mint\u001b[0m\u001b[0;34m(\u001b[0m\u001b[0mself\u001b[0m\u001b[0;34m.\u001b[0m\u001b[0m_jdf\u001b[0m\u001b[0;34m.\u001b[0m\u001b[0mcount\u001b[0m\u001b[0;34m(\u001b[0m\u001b[0;34m)\u001b[0m\u001b[0;34m)\u001b[0m\u001b[0;34m\u001b[0m\u001b[0m\n\u001b[0m\u001b[1;32m    381\u001b[0m \u001b[0;34m\u001b[0m\u001b[0m\n\u001b[1;32m    382\u001b[0m     \u001b[0;34m@\u001b[0m\u001b[0mignore_unicode_prefix\u001b[0m\u001b[0;34m\u001b[0m\u001b[0m\n",
      "\u001b[0;32m~/spark-2.1.1-bin-hadoop2.7/python/lib/py4j-0.10.4-src.zip/py4j/java_gateway.py\u001b[0m in \u001b[0;36m__call__\u001b[0;34m(self, *args)\u001b[0m\n\u001b[1;32m   1129\u001b[0m             \u001b[0mproto\u001b[0m\u001b[0;34m.\u001b[0m\u001b[0mEND_COMMAND_PART\u001b[0m\u001b[0;34m\u001b[0m\u001b[0m\n\u001b[1;32m   1130\u001b[0m \u001b[0;34m\u001b[0m\u001b[0m\n\u001b[0;32m-> 1131\u001b[0;31m         \u001b[0manswer\u001b[0m \u001b[0;34m=\u001b[0m \u001b[0mself\u001b[0m\u001b[0;34m.\u001b[0m\u001b[0mgateway_client\u001b[0m\u001b[0;34m.\u001b[0m\u001b[0msend_command\u001b[0m\u001b[0;34m(\u001b[0m\u001b[0mcommand\u001b[0m\u001b[0;34m)\u001b[0m\u001b[0;34m\u001b[0m\u001b[0m\n\u001b[0m\u001b[1;32m   1132\u001b[0m         return_value = get_return_value(\n\u001b[1;32m   1133\u001b[0m             answer, self.gateway_client, self.target_id, self.name)\n",
      "\u001b[0;32m~/spark-2.1.1-bin-hadoop2.7/python/lib/py4j-0.10.4-src.zip/py4j/java_gateway.py\u001b[0m in \u001b[0;36msend_command\u001b[0;34m(self, command, retry, binary)\u001b[0m\n\u001b[1;32m    881\u001b[0m         \u001b[0mconnection\u001b[0m \u001b[0;34m=\u001b[0m \u001b[0mself\u001b[0m\u001b[0;34m.\u001b[0m\u001b[0m_get_connection\u001b[0m\u001b[0;34m(\u001b[0m\u001b[0;34m)\u001b[0m\u001b[0;34m\u001b[0m\u001b[0m\n\u001b[1;32m    882\u001b[0m         \u001b[0;32mtry\u001b[0m\u001b[0;34m:\u001b[0m\u001b[0;34m\u001b[0m\u001b[0m\n\u001b[0;32m--> 883\u001b[0;31m             \u001b[0mresponse\u001b[0m \u001b[0;34m=\u001b[0m \u001b[0mconnection\u001b[0m\u001b[0;34m.\u001b[0m\u001b[0msend_command\u001b[0m\u001b[0;34m(\u001b[0m\u001b[0mcommand\u001b[0m\u001b[0;34m)\u001b[0m\u001b[0;34m\u001b[0m\u001b[0m\n\u001b[0m\u001b[1;32m    884\u001b[0m             \u001b[0;32mif\u001b[0m \u001b[0mbinary\u001b[0m\u001b[0;34m:\u001b[0m\u001b[0;34m\u001b[0m\u001b[0m\n\u001b[1;32m    885\u001b[0m                 \u001b[0;32mreturn\u001b[0m \u001b[0mresponse\u001b[0m\u001b[0;34m,\u001b[0m \u001b[0mself\u001b[0m\u001b[0;34m.\u001b[0m\u001b[0m_create_connection_guard\u001b[0m\u001b[0;34m(\u001b[0m\u001b[0mconnection\u001b[0m\u001b[0;34m)\u001b[0m\u001b[0;34m\u001b[0m\u001b[0m\n",
      "\u001b[0;32m~/spark-2.1.1-bin-hadoop2.7/python/lib/py4j-0.10.4-src.zip/py4j/java_gateway.py\u001b[0m in \u001b[0;36msend_command\u001b[0;34m(self, command)\u001b[0m\n\u001b[1;32m   1026\u001b[0m \u001b[0;34m\u001b[0m\u001b[0m\n\u001b[1;32m   1027\u001b[0m         \u001b[0;32mtry\u001b[0m\u001b[0;34m:\u001b[0m\u001b[0;34m\u001b[0m\u001b[0m\n\u001b[0;32m-> 1028\u001b[0;31m             \u001b[0manswer\u001b[0m \u001b[0;34m=\u001b[0m \u001b[0msmart_decode\u001b[0m\u001b[0;34m(\u001b[0m\u001b[0mself\u001b[0m\u001b[0;34m.\u001b[0m\u001b[0mstream\u001b[0m\u001b[0;34m.\u001b[0m\u001b[0mreadline\u001b[0m\u001b[0;34m(\u001b[0m\u001b[0;34m)\u001b[0m\u001b[0;34m[\u001b[0m\u001b[0;34m:\u001b[0m\u001b[0;34m-\u001b[0m\u001b[0;36m1\u001b[0m\u001b[0;34m]\u001b[0m\u001b[0;34m)\u001b[0m\u001b[0;34m\u001b[0m\u001b[0m\n\u001b[0m\u001b[1;32m   1029\u001b[0m             \u001b[0mlogger\u001b[0m\u001b[0;34m.\u001b[0m\u001b[0mdebug\u001b[0m\u001b[0;34m(\u001b[0m\u001b[0;34m\"Answer received: {0}\"\u001b[0m\u001b[0;34m.\u001b[0m\u001b[0mformat\u001b[0m\u001b[0;34m(\u001b[0m\u001b[0manswer\u001b[0m\u001b[0;34m)\u001b[0m\u001b[0;34m)\u001b[0m\u001b[0;34m\u001b[0m\u001b[0m\n\u001b[1;32m   1030\u001b[0m             \u001b[0;32mif\u001b[0m \u001b[0manswer\u001b[0m\u001b[0;34m.\u001b[0m\u001b[0mstartswith\u001b[0m\u001b[0;34m(\u001b[0m\u001b[0mproto\u001b[0m\u001b[0;34m.\u001b[0m\u001b[0mRETURN_MESSAGE\u001b[0m\u001b[0;34m)\u001b[0m\u001b[0;34m:\u001b[0m\u001b[0;34m\u001b[0m\u001b[0m\n",
      "\u001b[0;32m/usr/lib/python3.5/socket.py\u001b[0m in \u001b[0;36mreadinto\u001b[0;34m(self, b)\u001b[0m\n\u001b[1;32m    573\u001b[0m         \u001b[0;32mwhile\u001b[0m \u001b[0;32mTrue\u001b[0m\u001b[0;34m:\u001b[0m\u001b[0;34m\u001b[0m\u001b[0m\n\u001b[1;32m    574\u001b[0m             \u001b[0;32mtry\u001b[0m\u001b[0;34m:\u001b[0m\u001b[0;34m\u001b[0m\u001b[0m\n\u001b[0;32m--> 575\u001b[0;31m                 \u001b[0;32mreturn\u001b[0m \u001b[0mself\u001b[0m\u001b[0;34m.\u001b[0m\u001b[0m_sock\u001b[0m\u001b[0;34m.\u001b[0m\u001b[0mrecv_into\u001b[0m\u001b[0;34m(\u001b[0m\u001b[0mb\u001b[0m\u001b[0;34m)\u001b[0m\u001b[0;34m\u001b[0m\u001b[0m\n\u001b[0m\u001b[1;32m    576\u001b[0m             \u001b[0;32mexcept\u001b[0m \u001b[0mtimeout\u001b[0m\u001b[0;34m:\u001b[0m\u001b[0;34m\u001b[0m\u001b[0m\n\u001b[1;32m    577\u001b[0m                 \u001b[0mself\u001b[0m\u001b[0;34m.\u001b[0m\u001b[0m_timeout_occurred\u001b[0m \u001b[0;34m=\u001b[0m \u001b[0;32mTrue\u001b[0m\u001b[0;34m\u001b[0m\u001b[0m\n",
      "\u001b[0;31mKeyboardInterrupt\u001b[0m: "
     ]
    }
   ],
   "source": [
    "print(dfcombined.count(),len(dfcombined.columns))"
   ]
  },
  {
   "cell_type": "code",
   "execution_count": 69,
   "metadata": {},
   "outputs": [
    {
     "name": "stdout",
     "output_type": "stream",
     "text": [
      "+--------------------+-----------+\n",
      "|            features|payGapratio|\n",
      "+--------------------+-----------+\n",
      "|(27,[0,3,8,15,26]...|    0.03125|\n",
      "|(27,[0,3,8,15,26]...|     0.0625|\n",
      "|(27,[0,3,8,15,26]...|     0.4375|\n",
      "|(27,[0,3,8,15,26]...|    0.09375|\n",
      "|(27,[0,3,8,15,26]...|     0.1625|\n",
      "+--------------------+-----------+\n",
      "only showing top 5 rows\n",
      "\n"
     ]
    }
   ],
   "source": [
    "testData.show(5)"
   ]
  },
  {
   "cell_type": "code",
   "execution_count": 70,
   "metadata": {},
   "outputs": [
    {
     "name": "stdout",
     "output_type": "stream",
     "text": [
      "+--------------------+-------------------+\n",
      "|            features|        payGapratio|\n",
      "+--------------------+-------------------+\n",
      "|(27,[1,3,9,17,26]...|            0.48125|\n",
      "|(27,[2,4,8,17,26]...|              0.225|\n",
      "|(27,[0,4,9,20,26]...|   8.19047619047619|\n",
      "|(27,[0,3,8,19,26]...|0.21052631578947367|\n",
      "|(27,[0,4,12,18,26...| 0.8333333333333334|\n",
      "+--------------------+-------------------+\n",
      "only showing top 5 rows\n",
      "\n"
     ]
    }
   ],
   "source": [
    "df_f.show(5)"
   ]
  },
  {
   "cell_type": "code",
   "execution_count": null,
   "metadata": {},
   "outputs": [],
   "source": []
  }
 ],
 "metadata": {
  "kernelspec": {
   "display_name": "Python 3",
   "language": "python",
   "name": "python3"
  },
  "language_info": {
   "codemirror_mode": {
    "name": "ipython",
    "version": 3
   },
   "file_extension": ".py",
   "mimetype": "text/x-python",
   "name": "python",
   "nbconvert_exporter": "python",
   "pygments_lexer": "ipython3",
   "version": "3.5.2"
  }
 },
 "nbformat": 4,
 "nbformat_minor": 2
}
