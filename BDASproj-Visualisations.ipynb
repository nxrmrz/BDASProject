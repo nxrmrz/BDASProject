{
 "cells": [
  {
   "cell_type": "code",
   "execution_count": 1,
   "metadata": {},
   "outputs": [],
   "source": [
    "import findspark\n",
    "findspark.init('/home/ubuntu/spark-2.1.1-bin-hadoop2.7')\n",
    "import pyspark\n",
    "from pyspark.sql import SparkSession\n",
    "spark = SparkSession.builder.appName('BDASProj').getOrCreate()"
   ]
  },
  {
   "cell_type": "code",
   "execution_count": 2,
   "metadata": {},
   "outputs": [
    {
     "data": {
      "text/plain": [
       "['YEAR',\n",
       " 'SAMPLE',\n",
       " 'SERIAL',\n",
       " 'CBSERIAL',\n",
       " 'HHWT',\n",
       " 'STATEICP',\n",
       " 'GQ',\n",
       " 'PERNUM',\n",
       " 'PERWT',\n",
       " 'SEX',\n",
       " 'AGE',\n",
       " 'MARST',\n",
       " 'RACE',\n",
       " 'RACED',\n",
       " 'EDUC',\n",
       " 'EDUCD',\n",
       " 'EMPSTAT',\n",
       " 'EMPSTATD',\n",
       " 'OCC',\n",
       " 'INCWAGE']"
      ]
     },
     "execution_count": 2,
     "metadata": {},
     "output_type": "execute_result"
    }
   ],
   "source": [
    "#reading it in\n",
    "df = spark.read.csv('/home/ubuntu/BDASProj/usa_00007.csv',header=True)\n",
    "df.columns"
   ]
  },
  {
   "cell_type": "code",
   "execution_count": 3,
   "metadata": {},
   "outputs": [
    {
     "name": "stdout",
     "output_type": "stream",
     "text": [
      "+---+---+-----+----+----+----+-------+\n",
      "|SEX|AGE|MARST|RACE|EDUC| OCC|INCWAGE|\n",
      "+---+---+-----+----+----+----+-------+\n",
      "|  2| 31|    6|   1|  10| 350|  38500|\n",
      "|  2| 37|    4|   2|   6| 230|  18000|\n",
      "|  1| 21|    6|   2|   7|4620|  15000|\n",
      "|  1| 20|    6|   2|   7|4120|   1200|\n",
      "|  1| 61|    2|   1|  10|1410| 160000|\n",
      "|  1| 62|    1|   2|  10| 430| 100000|\n",
      "|  2| 58|    1|   2|  10|4710| 344000|\n",
      "|  1| 30|    6|   2|  10|4710| 120000|\n",
      "|  1| 26|    6|   2|  10|4850|  50000|\n",
      "|  2| 55|    6|   1|   7|4500|      0|\n",
      "|  1| 54|    4|   1|  10|4840|  56000|\n",
      "|  1| 36|    4|   1|   6|9130|  24700|\n",
      "|  1| 50|    1|   1|  11|2200| 344000|\n",
      "|  2| 47|    1|   1|   6|2340|  10000|\n",
      "|  2| 47|    1|   2|   8|4510|  15000|\n",
      "|  1| 53|    1|   2|   8|4760|  30000|\n",
      "|  2| 26|    6|   1|   7|5220|  25000|\n",
      "|  1| 22|    6|   2|   7|8965|  29500|\n",
      "|  1| 48|    1|   1|   6|3740|  65000|\n",
      "|  2| 49|    1|   1|  10|3600|  65000|\n",
      "+---+---+-----+----+----+----+-------+\n",
      "only showing top 20 rows\n",
      "\n"
     ]
    },
    {
     "data": {
      "text/plain": [
       "['SEX', 'AGE', 'MARST', 'RACE', 'EDUC', 'OCC', 'INCWAGE']"
      ]
     },
     "execution_count": 3,
     "metadata": {},
     "output_type": "execute_result"
    }
   ],
   "source": [
    "#deleting unwanted columns, and setting up df schema\n",
    "from pyspark.sql.types import DoubleType\n",
    "\n",
    "#deleting columns and showing new df\n",
    "df2 = df.select([c for c in df.columns if c not in {'YEAR','SAMPLE',\"SERIAL\",\"CBSERIAL\",\"HHWT\",\"STATEICP\",\"GQ\",\"PERNUM\",\"PERWT\",\"RACED\",\"EDUCD\",\"EMPSTAT\",\"EMPSTATD\"}])\n",
    "df2.show()\n",
    "df2.columns"
   ]
  },
  {
   "cell_type": "code",
   "execution_count": 4,
   "metadata": {},
   "outputs": [
    {
     "name": "stdout",
     "output_type": "stream",
     "text": [
      "+------+---+-------------------+-----+--------------+----+-------+\n",
      "|   SEX|AGE|              MARST| RACE|          EDUC| OCC|INCWAGE|\n",
      "+------+---+-------------------+-----+--------------+----+-------+\n",
      "|Female| 31|NeverMarried-Single|White|4thYearCollege| 350|  38500|\n",
      "|Female| 37|          Separated|Black|    HighSchool| 230|  18000|\n",
      "|  Male| 21|NeverMarried-Single|Black|1stYearCollege|4620|  15000|\n",
      "|  Male| 20|NeverMarried-Single|Black|1stYearCollege|4120|   1200|\n",
      "|  Male| 61|            Married|White|4thYearCollege|1410| 160000|\n",
      "|  Male| 62|            Married|Black|4thYearCollege| 430| 100000|\n",
      "|Female| 58|            Married|Black|4thYearCollege|4710| 344000|\n",
      "|  Male| 30|NeverMarried-Single|Black|4thYearCollege|4710| 120000|\n",
      "|  Male| 26|NeverMarried-Single|Black|4thYearCollege|4850|  50000|\n",
      "|Female| 55|NeverMarried-Single|White|1stYearCollege|4500|      0|\n",
      "|  Male| 54|          Separated|White|4thYearCollege|4840|  56000|\n",
      "|  Male| 36|          Separated|White|    HighSchool|9130|  24700|\n",
      "|  Male| 50|            Married|White|5+YearsCollege|2200| 344000|\n",
      "|Female| 47|            Married|White|    HighSchool|2340|  10000|\n",
      "|Female| 47|            Married|Black|2ndYearCollege|4510|  15000|\n",
      "|  Male| 53|            Married|Black|2ndYearCollege|4760|  30000|\n",
      "|Female| 26|NeverMarried-Single|White|1stYearCollege|5220|  25000|\n",
      "|  Male| 22|NeverMarried-Single|Black|1stYearCollege|8965|  29500|\n",
      "|  Male| 48|            Married|White|    HighSchool|3740|  65000|\n",
      "|Female| 49|            Married|White|4thYearCollege|3600|  65000|\n",
      "+------+---+-------------------+-----+--------------+----+-------+\n",
      "only showing top 20 rows\n",
      "\n",
      "+--------------------+\n",
      "|                RACE|\n",
      "+--------------------+\n",
      "|Native-IndianOrAl...|\n",
      "|             Chinese|\n",
      "|            Japanese|\n",
      "|OtherAsianOrPacif...|\n",
      "|               White|\n",
      "|               Black|\n",
      "+--------------------+\n",
      "\n"
     ]
    }
   ],
   "source": [
    "#change values within columns (all except OCC)\n",
    "sexDict = {'1':'Male','2':'Female'} \n",
    "df2 = df2.na.replace(sexDict,1,\"SEX\")\n",
    "\n",
    "mDict = {'1':'Married','2':'Married','3':'Separated','4':'Separated','5':'Widowed','6':'NeverMarried-Single'}\n",
    "df2 = df2.na.replace(mDict,1,\"MARST\")\n",
    "\n",
    "rDict = {'1': \"White\", '2': \"Black\", '3': \"Native-IndianOrAlaskan\", '4': \"Chinese\", '5': \"Japanese\", '6': \"OtherAsianOrPacificIslander\"}\n",
    "df2 = df2.na.replace(rDict,1,\"RACE\")\n",
    "\n",
    "eDict = {'0': \"NoSchooling\", '1': \"NurseryToKinderGarten\", '2': \"MiddleSchool\", '3': \"HighSchool\", '4': \"HighSchool\", '5': \"HighSchool\", '6': \"HighSchool\",'7': \"1stYearCollege\", '8': \"2ndYearCollege\", '9': \"3rdYearCollege\", '10': \"4thYearCollege\", '11': \"5+YearsCollege\"}\n",
    "df2 = df2.na.replace(eDict,1,\"EDUC\")\n",
    "df2.show()\n",
    "\n",
    "#removing 7,8,9 from RACE (we dont consider those race codes)\n",
    "df2 = df2.filter('RACE not in (\"7\",\"8\",\"9\")')\n",
    "df2.select('RACE').distinct().show()"
   ]
  },
  {
   "cell_type": "code",
   "execution_count": 5,
   "metadata": {},
   "outputs": [],
   "source": [
    "#retaining only non-zero INCWAGEs\n",
    "df2_buck = df2.filter(df2['INCWAGE']>0)"
   ]
  },
  {
   "cell_type": "code",
   "execution_count": 6,
   "metadata": {},
   "outputs": [
    {
     "name": "stdout",
     "output_type": "stream",
     "text": [
      "+------+---+-------------------+-----+--------------+------+-------+---------+\n",
      "|   SEX|AGE|              MARST| RACE|          EDUC|   OCC|INCWAGE|OCCRecode|\n",
      "+------+---+-------------------+-----+--------------+------+-------+---------+\n",
      "|Female| 31|NeverMarried-Single|White|4thYearCollege| 350.0|  38500|      0.0|\n",
      "|Female| 37|          Separated|Black|    HighSchool| 230.0|  18000|      0.0|\n",
      "|  Male| 21|NeverMarried-Single|Black|1stYearCollege|4620.0|  15000|      9.0|\n",
      "|  Male| 20|NeverMarried-Single|Black|1stYearCollege|4120.0|   1200|      9.0|\n",
      "|  Male| 61|            Married|White|4thYearCollege|1410.0| 160000|      2.0|\n",
      "|  Male| 62|            Married|Black|4thYearCollege| 430.0| 100000|      0.0|\n",
      "|Female| 58|            Married|Black|4thYearCollege|4710.0| 344000|     10.0|\n",
      "|  Male| 30|NeverMarried-Single|Black|4thYearCollege|4710.0| 120000|     10.0|\n",
      "|  Male| 26|NeverMarried-Single|Black|4thYearCollege|4850.0|  50000|     10.0|\n",
      "|Female| 55|NeverMarried-Single|White|1stYearCollege|4500.0|      0|      9.0|\n",
      "|  Male| 54|          Separated|White|4thYearCollege|4840.0|  56000|     10.0|\n",
      "|  Male| 36|          Separated|White|    HighSchool|9130.0|  24700|     13.0|\n",
      "|  Male| 50|            Married|White|5+YearsCollege|2200.0| 344000|      5.0|\n",
      "|Female| 47|            Married|White|    HighSchool|2340.0|  10000|      5.0|\n",
      "|Female| 47|            Married|Black|2ndYearCollege|4510.0|  15000|      9.0|\n",
      "|  Male| 53|            Married|Black|2ndYearCollege|4760.0|  30000|     10.0|\n",
      "|Female| 26|NeverMarried-Single|White|1stYearCollege|5220.0|  25000|     11.0|\n",
      "|  Male| 22|NeverMarried-Single|Black|1stYearCollege|8965.0|  29500|     13.0|\n",
      "|  Male| 48|            Married|White|    HighSchool|3740.0|  65000|      8.0|\n",
      "|Female| 49|            Married|White|4thYearCollege|3600.0|  65000|      7.0|\n",
      "+------+---+-------------------+-----+--------------+------+-------+---------+\n",
      "only showing top 20 rows\n",
      "\n"
     ]
    }
   ],
   "source": [
    "#Monumental Task: Reclassifying OCC\n",
    "from pyspark.ml.feature import Bucketizer\n",
    "\n",
    "#first convert stringtype of occrecode to doubletype\n",
    "df2 = df2.withColumn(\"OCC\", df2[\"OCC\"].cast(DoubleType()))\n",
    "\n",
    "#then reclassify\n",
    "bucketizer = Bucketizer(splits=[0,741,951,1966,2060,2161,2551,2921,3656,3956,4651,4966,5941,6131,9751,9921],\n",
    "                       inputCol=\"OCC\",outputCol=\"OCCRecode\")\n",
    "df2_buck = bucketizer.setHandleInvalid(\"keep\").transform(df2)\n",
    "\n",
    "#showing the occrecode column, as well as the number of distinct values (Showing it Worked!)\n",
    "df2_buck.show()"
   ]
  },
  {
   "cell_type": "code",
   "execution_count": 7,
   "metadata": {},
   "outputs": [
    {
     "name": "stdout",
     "output_type": "stream",
     "text": [
      "+--------------+\n",
      "|     OCCRecode|\n",
      "+--------------+\n",
      "|     Education|\n",
      "|         Sales|\n",
      "|    Healthcare|\n",
      "|  PublicSector|\n",
      "|       Finance|\n",
      "|         Media|\n",
      "|          STEM|\n",
      "|   Hospitality|\n",
      "|Administration|\n",
      "|           Law|\n",
      "|      Business|\n",
      "|        Trades|\n",
      "+--------------+\n",
      "\n"
     ]
    }
   ],
   "source": [
    "#continuing...\n",
    "from pyspark.sql.types import StringType\n",
    "from pyspark.sql.functions import udf\n",
    "\n",
    "t = {0.0:'Business',1.0:'Finance',2.0:'STEM',3.0:'PublicSector',4.0:'Law',\n",
    "     5.0:'Education',6.0:'Media',7.0:'Healthcare',8.0:'PublicSector',9.0:\n",
    "     'Hospitality',10.0:'Sales',11.0:'Administration',12.0:'STEM',13.0:'Trades',14.0:'PublicSector'}\n",
    "udf_foo = udf(lambda x: t[x], StringType())\n",
    "df3 = df2_buck.withColumn('OCCRecode',udf_foo(\"OCCRecode\"))\n",
    "\n",
    "#showing the new recoded occupations\n",
    "df3.select(\"OCCRecode\").distinct().show()"
   ]
  },
  {
   "cell_type": "code",
   "execution_count": 8,
   "metadata": {},
   "outputs": [
    {
     "name": "stdout",
     "output_type": "stream",
     "text": [
      "+-------------------+\n",
      "|              MARST|\n",
      "+-------------------+\n",
      "|          Separated|\n",
      "|NeverMarried-Single|\n",
      "|            Married|\n",
      "|            Widowed|\n",
      "+-------------------+\n",
      "\n"
     ]
    }
   ],
   "source": [
    "#showing levels of each categorical value\n",
    "df3.select(\"MARST\").distinct().show()"
   ]
  },
  {
   "cell_type": "code",
   "execution_count": 9,
   "metadata": {},
   "outputs": [
    {
     "name": "stdout",
     "output_type": "stream",
     "text": [
      "+--------------------+\n",
      "|                RACE|\n",
      "+--------------------+\n",
      "|Native-IndianOrAl...|\n",
      "|             Chinese|\n",
      "|            Japanese|\n",
      "|OtherAsianOrPacif...|\n",
      "|               White|\n",
      "|               Black|\n",
      "+--------------------+\n",
      "\n"
     ]
    }
   ],
   "source": [
    "df3.select(\"RACE\").distinct().show()"
   ]
  },
  {
   "cell_type": "code",
   "execution_count": 10,
   "metadata": {},
   "outputs": [
    {
     "name": "stdout",
     "output_type": "stream",
     "text": [
      "+--------------------+\n",
      "|                EDUC|\n",
      "+--------------------+\n",
      "|      5+YearsCollege|\n",
      "|          HighSchool|\n",
      "|      1stYearCollege|\n",
      "|NurseryToKinderGa...|\n",
      "|        MiddleSchool|\n",
      "|      2ndYearCollege|\n",
      "|         NoSchooling|\n",
      "|      4thYearCollege|\n",
      "+--------------------+\n",
      "\n"
     ]
    }
   ],
   "source": [
    "df3.select(\"EDUC\").distinct().show()"
   ]
  },
  {
   "cell_type": "code",
   "execution_count": 11,
   "metadata": {},
   "outputs": [
    {
     "name": "stdout",
     "output_type": "stream",
     "text": [
      "+--------------+\n",
      "|     OCCRecode|\n",
      "+--------------+\n",
      "|     Education|\n",
      "|         Sales|\n",
      "|    Healthcare|\n",
      "|  PublicSector|\n",
      "|       Finance|\n",
      "|         Media|\n",
      "|          STEM|\n",
      "|   Hospitality|\n",
      "|Administration|\n",
      "|           Law|\n",
      "|      Business|\n",
      "|        Trades|\n",
      "+--------------+\n",
      "\n"
     ]
    }
   ],
   "source": [
    "df3.select(\"OCCRecode\").distinct().show()"
   ]
  },
  {
   "cell_type": "code",
   "execution_count": 12,
   "metadata": {},
   "outputs": [
    {
     "name": "stdout",
     "output_type": "stream",
     "text": [
      "+------+---+-------------------+-----+--------------+------+-------+--------------+\n",
      "|   SEX|AGE|              MARST| RACE|          EDUC|   OCC|INCWAGE|     OCCRecode|\n",
      "+------+---+-------------------+-----+--------------+------+-------+--------------+\n",
      "|Female| 31|NeverMarried-Single|White|4thYearCollege| 350.0|  38500|      Business|\n",
      "|Female| 37|          Separated|Black|    HighSchool| 230.0|  18000|      Business|\n",
      "|  Male| 21|NeverMarried-Single|Black|1stYearCollege|4620.0|  15000|   Hospitality|\n",
      "|  Male| 20|NeverMarried-Single|Black|1stYearCollege|4120.0|   1200|   Hospitality|\n",
      "|  Male| 61|            Married|White|4thYearCollege|1410.0| 160000|          STEM|\n",
      "|  Male| 62|            Married|Black|4thYearCollege| 430.0| 100000|      Business|\n",
      "|Female| 58|            Married|Black|4thYearCollege|4710.0| 344000|         Sales|\n",
      "|  Male| 30|NeverMarried-Single|Black|4thYearCollege|4710.0| 120000|         Sales|\n",
      "|  Male| 26|NeverMarried-Single|Black|4thYearCollege|4850.0|  50000|         Sales|\n",
      "|Female| 55|NeverMarried-Single|White|1stYearCollege|4500.0|      0|   Hospitality|\n",
      "|  Male| 54|          Separated|White|4thYearCollege|4840.0|  56000|         Sales|\n",
      "|  Male| 36|          Separated|White|    HighSchool|9130.0|  24700|        Trades|\n",
      "|  Male| 50|            Married|White|5+YearsCollege|2200.0| 344000|     Education|\n",
      "|Female| 47|            Married|White|    HighSchool|2340.0|  10000|     Education|\n",
      "|Female| 47|            Married|Black|2ndYearCollege|4510.0|  15000|   Hospitality|\n",
      "|  Male| 53|            Married|Black|2ndYearCollege|4760.0|  30000|         Sales|\n",
      "|Female| 26|NeverMarried-Single|White|1stYearCollege|5220.0|  25000|Administration|\n",
      "|  Male| 22|NeverMarried-Single|Black|1stYearCollege|8965.0|  29500|        Trades|\n",
      "|  Male| 48|            Married|White|    HighSchool|3740.0|  65000|  PublicSector|\n",
      "|Female| 49|            Married|White|4thYearCollege|3600.0|  65000|    Healthcare|\n",
      "+------+---+-------------------+-----+--------------+------+-------+--------------+\n",
      "only showing top 20 rows\n",
      "\n"
     ]
    }
   ],
   "source": [
    "df3.show()"
   ]
  },
  {
   "cell_type": "code",
   "execution_count": 13,
   "metadata": {},
   "outputs": [
    {
     "name": "stdout",
     "output_type": "stream",
     "text": [
      "+------+---+-------------------+-----+--------------+------+-------+--------------+--------------+\n",
      "|   SEX|AGE|              MARST| RACE|          EDUC|   OCC|INCWAGE|     OCCRecode|     M_MedWage|\n",
      "+------+---+-------------------+-----+--------------+------+-------+--------------+--------------+\n",
      "|Female| 31|NeverMarried-Single|White|4thYearCollege| 350.0|  38500|      Business|      Business|\n",
      "|Female| 37|          Separated|Black|    HighSchool| 230.0|  18000|      Business|      Business|\n",
      "|  Male| 21|NeverMarried-Single|Black|1stYearCollege|4620.0|  15000|   Hospitality|   Hospitality|\n",
      "|  Male| 20|NeverMarried-Single|Black|1stYearCollege|4120.0|   1200|   Hospitality|   Hospitality|\n",
      "|  Male| 61|            Married|White|4thYearCollege|1410.0| 160000|          STEM|          STEM|\n",
      "|  Male| 62|            Married|Black|4thYearCollege| 430.0| 100000|      Business|      Business|\n",
      "|Female| 58|            Married|Black|4thYearCollege|4710.0| 344000|         Sales|         Sales|\n",
      "|  Male| 30|NeverMarried-Single|Black|4thYearCollege|4710.0| 120000|         Sales|         Sales|\n",
      "|  Male| 26|NeverMarried-Single|Black|4thYearCollege|4850.0|  50000|         Sales|         Sales|\n",
      "|Female| 55|NeverMarried-Single|White|1stYearCollege|4500.0|      0|   Hospitality|   Hospitality|\n",
      "|  Male| 54|          Separated|White|4thYearCollege|4840.0|  56000|         Sales|         Sales|\n",
      "|  Male| 36|          Separated|White|    HighSchool|9130.0|  24700|        Trades|        Trades|\n",
      "|  Male| 50|            Married|White|5+YearsCollege|2200.0| 344000|     Education|     Education|\n",
      "|Female| 47|            Married|White|    HighSchool|2340.0|  10000|     Education|     Education|\n",
      "|Female| 47|            Married|Black|2ndYearCollege|4510.0|  15000|   Hospitality|   Hospitality|\n",
      "|  Male| 53|            Married|Black|2ndYearCollege|4760.0|  30000|         Sales|         Sales|\n",
      "|Female| 26|NeverMarried-Single|White|1stYearCollege|5220.0|  25000|Administration|Administration|\n",
      "|  Male| 22|NeverMarried-Single|Black|1stYearCollege|8965.0|  29500|        Trades|        Trades|\n",
      "|  Male| 48|            Married|White|    HighSchool|3740.0|  65000|  PublicSector|  PublicSector|\n",
      "|Female| 49|            Married|White|4thYearCollege|3600.0|  65000|    Healthcare|    Healthcare|\n",
      "+------+---+-------------------+-----+--------------+------+-------+--------------+--------------+\n",
      "only showing top 20 rows\n",
      "\n"
     ]
    }
   ],
   "source": [
    "#now we add a column for male median grouped by OCCRecode\n",
    "df3 = df3.withColumn(\"M_MedWage\",df3[\"OCCRecode\"])\n",
    "df3.show()"
   ]
  },
  {
   "cell_type": "code",
   "execution_count": null,
   "metadata": {},
   "outputs": [],
   "source": []
  },
  {
   "cell_type": "markdown",
   "metadata": {},
   "source": []
  },
  {
   "cell_type": "code",
   "execution_count": 14,
   "metadata": {},
   "outputs": [],
   "source": [
    "#then putting in values for median wage\n",
    "medWageMap={\n",
    "    'Administration':'32000',\n",
    "    'Business':'80000',\n",
    "    'Education':'47500',\n",
    "    'Healthcare':'67000',\n",
    "    'Hospitality':'18000',\n",
    "    'Law':'85000',\n",
    "    'Media':'35000',\n",
    "    'PublicSector':'46850',\n",
    "    'STEM':'73500',\n",
    "    'Sales':'42000',\n",
    "    'Trades':'36000',\n",
    "    'Finance':'97000'\n",
    "}\n",
    "df3 = df3.na.replace(medWageMap,1,\"M_MedWage\")\n",
    "df3 = df3.drop(\"OCC\")"
   ]
  },
  {
   "cell_type": "code",
   "execution_count": 54,
   "metadata": {},
   "outputs": [],
   "source": [
    "#deriving the pay gap ratio column\n",
    "df3 = df3.withColumn(\"PayGapRatio\",df3['INCWAGE']/df3['M_MedWage'])\n",
    "\n",
    "#filtering females\n",
    "df3 = df3.filter(df3['SEX']=='Female')"
   ]
  },
  {
   "cell_type": "code",
   "execution_count": 55,
   "metadata": {},
   "outputs": [
    {
     "name": "stdout",
     "output_type": "stream",
     "text": [
      "+------+---+-------------------+-----+--------------+-------+-----------+---------+-------------------+\n",
      "|   SEX|AGE|              MARST| RACE|          EDUC|INCWAGE|  OCCRecode|M_MedWage|        PayGapRatio|\n",
      "+------+---+-------------------+-----+--------------+-------+-----------+---------+-------------------+\n",
      "|Female| 31|NeverMarried-Single|White|4thYearCollege|  38500|   Business|    80000|            0.48125|\n",
      "|Female| 37|          Separated|Black|    HighSchool|  18000|   Business|    80000|              0.225|\n",
      "|Female| 58|            Married|Black|4thYearCollege| 344000|      Sales|    42000|   8.19047619047619|\n",
      "|Female| 55|NeverMarried-Single|White|1stYearCollege|      0|Hospitality|    18000|                0.0|\n",
      "|Female| 47|            Married|White|    HighSchool|  10000|  Education|    47500|0.21052631578947367|\n",
      "+------+---+-------------------+-----+--------------+-------+-----------+---------+-------------------+\n",
      "only showing top 5 rows\n",
      "\n"
     ]
    }
   ],
   "source": [
    "df3.show(5)"
   ]
  },
  {
   "cell_type": "code",
   "execution_count": 56,
   "metadata": {},
   "outputs": [],
   "source": [
    "#then reclassify\n",
    "pGRatioBucket = Bucketizer(splits=[0, 0.33, 0.66, 0.99, 1.0, float('Inf')],\n",
    "                       inputCol=\"PayGapRatio\",outputCol=\"payGapClass\")"
   ]
  },
  {
   "cell_type": "code",
   "execution_count": 18,
   "metadata": {},
   "outputs": [
    {
     "name": "stdout",
     "output_type": "stream",
     "text": [
      "+-----------+\n",
      "|payGapClass|\n",
      "+-----------+\n",
      "|        0.0|\n",
      "|        1.0|\n",
      "|        4.0|\n",
      "|        3.0|\n",
      "|        2.0|\n",
      "+-----------+\n",
      "\n"
     ]
    }
   ],
   "source": [
    "df3_buck = pGRatioBucket.setHandleInvalid(\"keep\").transform(df3)\n",
    "df3_buck.select(\"payGapClass\").distinct().show()"
   ]
  },
  {
   "cell_type": "code",
   "execution_count": 57,
   "metadata": {},
   "outputs": [
    {
     "name": "stdout",
     "output_type": "stream",
     "text": [
      "+-------+------------------+\n",
      "|summary|       PayGapRatio|\n",
      "+-------+------------------+\n",
      "|  count|            311046|\n",
      "|   mean|0.8812605018603163|\n",
      "| stddev|0.9222797709320523|\n",
      "|    min|               0.0|\n",
      "|    max| 35.44444444444444|\n",
      "+-------+------------------+\n",
      "\n"
     ]
    }
   ],
   "source": [
    "#remove columns we're not interested in\n",
    "df4_regressor = df3.select(\"SEX\",\"AGE\",\"MARST\",\"RACE\",\"EDUC\",\"OCCRecode\",\"INCWAGE\",\"PayGapratio\")\n",
    "df4_regressor.select(\"PayGapRatio\").describe().show()"
   ]
  },
  {
   "cell_type": "code",
   "execution_count": 20,
   "metadata": {},
   "outputs": [],
   "source": [
    "from matplotlib import pyplot as plt\n",
    "import numpy as np"
   ]
  },
  {
   "cell_type": "code",
   "execution_count": 58,
   "metadata": {},
   "outputs": [],
   "source": [
    "from pyspark.sql.types import IntegerType\n",
    "df4_regressor = df4_regressor.withColumn(\"INCWAGE\", df4_regressor[\"INCWAGE\"].cast(IntegerType()))\n",
    "df4_regressor = df4_regressor.withColumn(\"AGE\", df4_regressor[\"AGE\"].cast(IntegerType()))"
   ]
  },
  {
   "cell_type": "code",
   "execution_count": 59,
   "metadata": {},
   "outputs": [],
   "source": [
    "df_pd = df4_regressor.toPandas()"
   ]
  },
  {
   "cell_type": "code",
   "execution_count": 23,
   "metadata": {},
   "outputs": [
    {
     "data": {
      "image/png": "[encoded data removed]",
      "text/plain": [
       "<Figure size 1080x720 with 1 Axes>"
      ]
     },
     "metadata": {},
     "output_type": "display_data"
    }
   ],
   "source": [
    "df_pd[\"OCCRecode\"].value_counts().plot(kind=\"bar\",figsize=(15,10))\n",
    "plt.ylabel(\"Counts\")\n",
    "plt.xlabel(\"Occupations\")\n",
    "plt.title(\"Distribution of Occupations\")\n",
    "plt.show()"
   ]
  },
  {
   "cell_type": "code",
   "execution_count": 24,
   "metadata": {},
   "outputs": [
    {
     "data": {
      "text/plain": [
       "<matplotlib.axes._subplots.AxesSubplot at 0x7f781bf39a90>"
      ]
     },
     "execution_count": 24,
     "metadata": {},
     "output_type": "execute_result"
    },
    {
     "data": {
      "image/png": "[encoded data removed]",
      "text/plain": [
       "<Figure size 648x432 with 1 Axes>"
      ]
     },
     "metadata": {},
     "output_type": "display_data"
    }
   ],
   "source": [
    "df_pd[\"SEX\"].value_counts().plot(kind=\"bar\",figsize=(9,6))"
   ]
  },
  {
   "cell_type": "code",
   "execution_count": 25,
   "metadata": {},
   "outputs": [
    {
     "data": {
      "text/plain": [
       "Male      333850\n",
       "Female    311046\n",
       "Name: SEX, dtype: int64"
      ]
     },
     "execution_count": 25,
     "metadata": {},
     "output_type": "execute_result"
    }
   ],
   "source": [
    "df_pd[\"SEX\"].value_counts()"
   ]
  },
  {
   "cell_type": "code",
   "execution_count": 26,
   "metadata": {},
   "outputs": [
    {
     "data": {
      "text/plain": [
       "<matplotlib.axes._subplots.AxesSubplot at 0x7f781b7fa320>"
      ]
     },
     "execution_count": 26,
     "metadata": {},
     "output_type": "execute_result"
    },
    {
     "data": {
      "image/png": "[encoded data removed]",
      "text/plain": [
       "<Figure size 648x432 with 1 Axes>"
      ]
     },
     "metadata": {},
     "output_type": "display_data"
    }
   ],
   "source": [
    "df_pd[\"MARST\"].value_counts().plot(kind=\"bar\",figsize=(9,6))"
   ]
  },
  {
   "cell_type": "code",
   "execution_count": 27,
   "metadata": {},
   "outputs": [
    {
     "data": {
      "text/plain": [
       "<matplotlib.axes._subplots.AxesSubplot at 0x7f781b33aa90>"
      ]
     },
     "execution_count": 27,
     "metadata": {},
     "output_type": "execute_result"
    },
    {
     "data": {
      "image/png": "[encoded data removed]",
      "text/plain": [
       "<Figure size 648x432 with 1 Axes>"
      ]
     },
     "metadata": {},
     "output_type": "display_data"
    }
   ],
   "source": [
    "df_pd[\"EDUC\"].value_counts().plot(kind=\"bar\",figsize=(9,6))"
   ]
  },
  {
   "cell_type": "code",
   "execution_count": 28,
   "metadata": {
    "scrolled": false
   },
   "outputs": [
    {
     "data": {
      "text/plain": [
       "<matplotlib.axes._subplots.AxesSubplot at 0x7f781ad318d0>"
      ]
     },
     "execution_count": 28,
     "metadata": {},
     "output_type": "execute_result"
    },
    {
     "data": {
      "image/png": "[encoded data removed]",
      "text/plain": [
       "<Figure size 648x432 with 1 Axes>"
      ]
     },
     "metadata": {},
     "output_type": "display_data"
    }
   ],
   "source": [
    "df_pd[\"OCCRecode\"].value_counts().plot(kind=\"bar\",figsize=(9,6))"
   ]
  },
  {
   "cell_type": "code",
   "execution_count": 29,
   "metadata": {},
   "outputs": [
    {
     "data": {
      "text/plain": [
       "<matplotlib.axes._subplots.AxesSubplot at 0x7f781ac44cc0>"
      ]
     },
     "execution_count": 29,
     "metadata": {},
     "output_type": "execute_result"
    },
    {
     "data": {
      "image/png": "[encoded data removed]",
      "text/plain": [
       "<Figure size 648x432 with 1 Axes>"
      ]
     },
     "metadata": {},
     "output_type": "display_data"
    }
   ],
   "source": [
    "df_pd[\"RACE\"].value_counts().plot(kind=\"bar\",figsize=(9,6))"
   ]
  },
  {
   "cell_type": "code",
   "execution_count": 30,
   "metadata": {},
   "outputs": [],
   "source": [
    "import seaborn as sb"
   ]
  },
  {
   "cell_type": "code",
   "execution_count": 31,
   "metadata": {},
   "outputs": [
    {
     "data": {
      "text/plain": [
       "<matplotlib.axes._subplots.AxesSubplot at 0x7f781ca95f98>"
      ]
     },
     "execution_count": 31,
     "metadata": {},
     "output_type": "execute_result"
    },
    {
     "data": {
      "image/png": "[encoded data removed]",
      "text/plain": [
       "<Figure size 1080x720 with 1 Axes>"
      ]
     },
     "metadata": {},
     "output_type": "display_data"
    }
   ],
   "source": [
    "fig, axs = plt.subplots(figsize=(15,10))\n",
    "sb.barplot(x=\"OCCRecode\",y=\"INCWAGE\",hue=\"SEX\",data=df_pd)"
   ]
  },
  {
   "cell_type": "code",
   "execution_count": 32,
   "metadata": {},
   "outputs": [
    {
     "data": {
      "text/plain": [
       "Text(0.5,0.98,'Distribution of Numerical Variables')"
      ]
     },
     "execution_count": 32,
     "metadata": {},
     "output_type": "execute_result"
    },
    {
     "data": {
      "image/png": "[encoded data removed]",
      "text/plain": [
       "<Figure size 648x216 with 2 Axes>"
      ]
     },
     "metadata": {},
     "output_type": "display_data"
    }
   ],
   "source": [
    "fig, axs = plt.subplots(1,2,figsize=(9,3))\n",
    "axs[0].hist(df_pd[\"AGE\"])\n",
    "axs[0].set_xlabel(\"Age\")\n",
    "axs[0].set_ylabel(\"Counts\")\n",
    "axs[1].hist(df_pd[\"INCWAGE\"])\n",
    "axs[1].set_xlabel(\"Annual Income\")\n",
    "fig.suptitle(\"Distribution of Numerical Variables\")"
   ]
  },
  {
   "cell_type": "code",
   "execution_count": 33,
   "metadata": {},
   "outputs": [],
   "source": [
    "df_pd[\"SEX\"] = df_pd[\"SEX\"].astype('str')\n",
    "df_pd[\"MARST\"] = df_pd[\"MARST\"].astype('str')\n",
    "df_pd[\"RACE\"] = df_pd[\"RACE\"].astype('str')\n",
    "df_pd[\"EDUC\"] = df_pd[\"EDUC\"].astype('str')\n",
    "df_pd[\"OCCRecode\"] = df_pd[\"OCCRecode\"].astype('str')"
   ]
  },
  {
   "cell_type": "code",
   "execution_count": 34,
   "metadata": {},
   "outputs": [
    {
     "data": {
      "text/html": [
       "<div>\n",
       "<style scoped>\n",
       "    .dataframe tbody tr th:only-of-type {\n",
       "        vertical-align: middle;\n",
       "    }\n",
       "\n",
       "    .dataframe tbody tr th {\n",
       "        vertical-align: top;\n",
       "    }\n",
       "\n",
       "    .dataframe thead th {\n",
       "        text-align: right;\n",
       "    }\n",
       "</style>\n",
       "<table border=\"1\" class=\"dataframe\">\n",
       "  <thead>\n",
       "    <tr style=\"text-align: right;\">\n",
       "      <th></th>\n",
       "      <th>AGE</th>\n",
       "      <th>INCWAGE</th>\n",
       "      <th>PayGapratio</th>\n",
       "    </tr>\n",
       "  </thead>\n",
       "  <tbody>\n",
       "    <tr>\n",
       "      <th>count</th>\n",
       "      <td>644896.000000</td>\n",
       "      <td>644896.000000</td>\n",
       "      <td>644896.000000</td>\n",
       "    </tr>\n",
       "    <tr>\n",
       "      <th>mean</th>\n",
       "      <td>41.735869</td>\n",
       "      <td>52286.674124</td>\n",
       "      <td>1.082081</td>\n",
       "    </tr>\n",
       "    <tr>\n",
       "      <th>std</th>\n",
       "      <td>13.200091</td>\n",
       "      <td>64021.404869</td>\n",
       "      <td>1.180895</td>\n",
       "    </tr>\n",
       "    <tr>\n",
       "      <th>min</th>\n",
       "      <td>16.000000</td>\n",
       "      <td>0.000000</td>\n",
       "      <td>0.000000</td>\n",
       "    </tr>\n",
       "    <tr>\n",
       "      <th>25%</th>\n",
       "      <td>31.000000</td>\n",
       "      <td>18000.000000</td>\n",
       "      <td>0.425000</td>\n",
       "    </tr>\n",
       "    <tr>\n",
       "      <th>50%</th>\n",
       "      <td>42.000000</td>\n",
       "      <td>37800.000000</td>\n",
       "      <td>0.849520</td>\n",
       "    </tr>\n",
       "    <tr>\n",
       "      <th>75%</th>\n",
       "      <td>53.000000</td>\n",
       "      <td>65000.000000</td>\n",
       "      <td>1.388889</td>\n",
       "    </tr>\n",
       "    <tr>\n",
       "      <th>max</th>\n",
       "      <td>64.000000</td>\n",
       "      <td>710000.000000</td>\n",
       "      <td>39.444444</td>\n",
       "    </tr>\n",
       "  </tbody>\n",
       "</table>\n",
       "</div>"
      ],
      "text/plain": [
       "                 AGE        INCWAGE    PayGapratio\n",
       "count  644896.000000  644896.000000  644896.000000\n",
       "mean       41.735869   52286.674124       1.082081\n",
       "std        13.200091   64021.404869       1.180895\n",
       "min        16.000000       0.000000       0.000000\n",
       "25%        31.000000   18000.000000       0.425000\n",
       "50%        42.000000   37800.000000       0.849520\n",
       "75%        53.000000   65000.000000       1.388889\n",
       "max        64.000000  710000.000000      39.444444"
      ]
     },
     "execution_count": 34,
     "metadata": {},
     "output_type": "execute_result"
    }
   ],
   "source": [
    "df_pd.describe()"
   ]
  },
  {
   "cell_type": "code",
   "execution_count": 53,
   "metadata": {},
   "outputs": [
    {
     "data": {
      "text/html": [
       "<div>\n",
       "<style scoped>\n",
       "    .dataframe tbody tr th:only-of-type {\n",
       "        vertical-align: middle;\n",
       "    }\n",
       "\n",
       "    .dataframe tbody tr th {\n",
       "        vertical-align: top;\n",
       "    }\n",
       "\n",
       "    .dataframe thead th {\n",
       "        text-align: right;\n",
       "    }\n",
       "</style>\n",
       "<table border=\"1\" class=\"dataframe\">\n",
       "  <thead>\n",
       "    <tr style=\"text-align: right;\">\n",
       "      <th></th>\n",
       "      <th>SEX</th>\n",
       "      <th>AGE</th>\n",
       "      <th>MARST</th>\n",
       "      <th>RACE</th>\n",
       "      <th>EDUC</th>\n",
       "      <th>OCCRecode</th>\n",
       "      <th>INCWAGE</th>\n",
       "      <th>PayGapratio</th>\n",
       "    </tr>\n",
       "  </thead>\n",
       "  <tbody>\n",
       "    <tr>\n",
       "      <th>0</th>\n",
       "      <td>Female</td>\n",
       "      <td>31</td>\n",
       "      <td>NeverMarried-Single</td>\n",
       "      <td>White</td>\n",
       "      <td>4thYearCollege</td>\n",
       "      <td>Business</td>\n",
       "      <td>38500</td>\n",
       "      <td>0.481250</td>\n",
       "    </tr>\n",
       "    <tr>\n",
       "      <th>1</th>\n",
       "      <td>Female</td>\n",
       "      <td>37</td>\n",
       "      <td>Separated</td>\n",
       "      <td>Black</td>\n",
       "      <td>HighSchool</td>\n",
       "      <td>Business</td>\n",
       "      <td>18000</td>\n",
       "      <td>0.225000</td>\n",
       "    </tr>\n",
       "    <tr>\n",
       "      <th>2</th>\n",
       "      <td>NaN</td>\n",
       "      <td>21</td>\n",
       "      <td>NeverMarried-Single</td>\n",
       "      <td>Black</td>\n",
       "      <td>1stYearCollege</td>\n",
       "      <td>Hospitality</td>\n",
       "      <td>15000</td>\n",
       "      <td>0.833333</td>\n",
       "    </tr>\n",
       "    <tr>\n",
       "      <th>3</th>\n",
       "      <td>NaN</td>\n",
       "      <td>20</td>\n",
       "      <td>NeverMarried-Single</td>\n",
       "      <td>Black</td>\n",
       "      <td>1stYearCollege</td>\n",
       "      <td>Hospitality</td>\n",
       "      <td>1200</td>\n",
       "      <td>0.066667</td>\n",
       "    </tr>\n",
       "  </tbody>\n",
       "</table>\n",
       "</div>"
      ],
      "text/plain": [
       "      SEX  AGE                MARST   RACE            EDUC    OCCRecode  \\\n",
       "0  Female   31  NeverMarried-Single  White  4thYearCollege     Business   \n",
       "1  Female   37            Separated  Black      HighSchool     Business   \n",
       "2     NaN   21  NeverMarried-Single  Black  1stYearCollege  Hospitality   \n",
       "3     NaN   20  NeverMarried-Single  Black  1stYearCollege  Hospitality   \n",
       "\n",
       "   INCWAGE  PayGapratio  \n",
       "0    38500     0.481250  \n",
       "1    18000     0.225000  \n",
       "2    15000     0.833333  \n",
       "3     1200     0.066667  "
      ]
     },
     "execution_count": 53,
     "metadata": {},
     "output_type": "execute_result"
    }
   ],
   "source": []
  },
  {
   "cell_type": "code",
   "execution_count": 61,
   "metadata": {},
   "outputs": [
    {
     "data": {
      "text/plain": [
       "count     311046\n",
       "unique         1\n",
       "top       Female\n",
       "freq      311046\n",
       "Name: SEX, dtype: object"
      ]
     },
     "execution_count": 61,
     "metadata": {},
     "output_type": "execute_result"
    }
   ],
   "source": []
  },
  {
   "cell_type": "code",
   "execution_count": 36,
   "metadata": {},
   "outputs": [
    {
     "data": {
      "text/html": [
       "<div>\n",
       "<style scoped>\n",
       "    .dataframe tbody tr th:only-of-type {\n",
       "        vertical-align: middle;\n",
       "    }\n",
       "\n",
       "    .dataframe tbody tr th {\n",
       "        vertical-align: top;\n",
       "    }\n",
       "\n",
       "    .dataframe thead th {\n",
       "        text-align: right;\n",
       "    }\n",
       "</style>\n",
       "<table border=\"1\" class=\"dataframe\">\n",
       "  <thead>\n",
       "    <tr style=\"text-align: right;\">\n",
       "      <th></th>\n",
       "      <th>SEX</th>\n",
       "      <th>MARST</th>\n",
       "      <th>RACE</th>\n",
       "      <th>EDUC</th>\n",
       "      <th>OCCRecode</th>\n",
       "    </tr>\n",
       "  </thead>\n",
       "  <tbody>\n",
       "    <tr>\n",
       "      <th>count</th>\n",
       "      <td>644896</td>\n",
       "      <td>644896</td>\n",
       "      <td>644896</td>\n",
       "      <td>644896</td>\n",
       "      <td>644896</td>\n",
       "    </tr>\n",
       "    <tr>\n",
       "      <th>unique</th>\n",
       "      <td>2</td>\n",
       "      <td>4</td>\n",
       "      <td>6</td>\n",
       "      <td>8</td>\n",
       "      <td>12</td>\n",
       "    </tr>\n",
       "    <tr>\n",
       "      <th>top</th>\n",
       "      <td>Male</td>\n",
       "      <td>Married</td>\n",
       "      <td>White</td>\n",
       "      <td>HighSchool</td>\n",
       "      <td>Trades</td>\n",
       "    </tr>\n",
       "    <tr>\n",
       "      <th>freq</th>\n",
       "      <td>333850</td>\n",
       "      <td>363375</td>\n",
       "      <td>533932</td>\n",
       "      <td>229900</td>\n",
       "      <td>124246</td>\n",
       "    </tr>\n",
       "  </tbody>\n",
       "</table>\n",
       "</div>"
      ],
      "text/plain": [
       "           SEX    MARST    RACE        EDUC OCCRecode\n",
       "count   644896   644896  644896      644896    644896\n",
       "unique       2        4       6           8        12\n",
       "top       Male  Married   White  HighSchool    Trades\n",
       "freq    333850   363375  533932      229900    124246"
      ]
     },
     "execution_count": 36,
     "metadata": {},
     "output_type": "execute_result"
    }
   ],
   "source": [
    "df_pd.describe(include='object')"
   ]
  },
  {
   "cell_type": "code",
   "execution_count": 37,
   "metadata": {},
   "outputs": [
    {
     "data": {
      "text/plain": [
       "SEX            False\n",
       "AGE            False\n",
       "MARST          False\n",
       "RACE           False\n",
       "EDUC           False\n",
       "OCCRecode      False\n",
       "INCWAGE        False\n",
       "PayGapratio    False\n",
       "dtype: bool"
      ]
     },
     "execution_count": 37,
     "metadata": {},
     "output_type": "execute_result"
    }
   ],
   "source": [
    "df_pd.isnull().any()"
   ]
  },
  {
   "cell_type": "code",
   "execution_count": 38,
   "metadata": {},
   "outputs": [
    {
     "data": {
      "text/plain": [
       "<matplotlib.axes._subplots.AxesSubplot at 0x7f781c4d51d0>"
      ]
     },
     "execution_count": 38,
     "metadata": {},
     "output_type": "execute_result"
    },
    {
     "data": {
      "image/png": "[encoded data removed]",
      "text/plain": [
       "<Figure size 432x288 with 1 Axes>"
      ]
     },
     "metadata": {},
     "output_type": "display_data"
    }
   ],
   "source": [
    "sb.boxplot(df_pd[\"AGE\"])"
   ]
  },
  {
   "cell_type": "code",
   "execution_count": 39,
   "metadata": {},
   "outputs": [
    {
     "data": {
      "text/plain": [
       "<matplotlib.axes._subplots.AxesSubplot at 0x7f781c4a1d30>"
      ]
     },
     "execution_count": 39,
     "metadata": {},
     "output_type": "execute_result"
    },
    {
     "data": {
      "image/png": "[encoded data removed]",
      "text/plain": [
       "<Figure size 432x288 with 1 Axes>"
      ]
     },
     "metadata": {},
     "output_type": "display_data"
    }
   ],
   "source": [
    "sb.boxplot(df_pd[\"INCWAGE\"])"
   ]
  },
  {
   "cell_type": "code",
   "execution_count": 47,
   "metadata": {},
   "outputs": [
    {
     "data": {
      "image/png": "[encoded data removed]",
      "text/plain": [
       "<Figure size 1080x864 with 4 Axes>"
      ]
     },
     "metadata": {},
     "output_type": "display_data"
    }
   ],
   "source": [
    "fig, axs = plt.subplots(4,1, figsize=(15,12))\n",
    "mpg = sb.barplot(x=\"MARST\", y=\"PayGapratio\", data=df_pd, ax=axs[0])\n",
    "rpg = sb.barplot(x=\"RACE\", y=\"PayGapratio\", data=df_pd, ax=axs[1])\n",
    "epg = sb.barplot(x=\"EDUC\", y=\"PayGapratio\", data=df_pd, ax=axs[2])\n",
    "opg = sb.barplot(x=\"OCCRecode\", y=\"PayGapratio\", data=df_pd, ax=axs[3])\n",
    "mpg.set(xlabel=\"Marital Status\")\n",
    "rpg.set(xlabel=\"Race\")\n",
    "epg.set(xlabel=\"Educational Attainment\")\n",
    "opg.set(xlabel=\"Occupations\")\n",
    "plt.show()"
   ]
  },
  {
   "cell_type": "code",
   "execution_count": 62,
   "metadata": {},
   "outputs": [
    {
     "data": {
      "text/plain": [
       "count    311046.000000\n",
       "mean          0.881261\n",
       "std           0.922280\n",
       "min           0.000000\n",
       "25%           0.357895\n",
       "50%           0.722222\n",
       "75%           1.157895\n",
       "max          35.444444\n",
       "Name: PayGapratio, dtype: float64"
      ]
     },
     "execution_count": 62,
     "metadata": {},
     "output_type": "execute_result"
    }
   ],
   "source": [
    "df_pd[\"PayGapratio\"].describe()"
   ]
  },
  {
   "cell_type": "code",
   "execution_count": 60,
   "metadata": {},
   "outputs": [
    {
     "data": {
      "text/plain": [
       "<seaborn.axisgrid.FacetGrid at 0x7f78085cd940>"
      ]
     },
     "execution_count": 60,
     "metadata": {},
     "output_type": "execute_result"
    },
    {
     "data": {
      "image/png": "[encoded data removed]",
      "text/plain": [
       "<Figure size 360x360 with 1 Axes>"
      ]
     },
     "metadata": {},
     "output_type": "display_data"
    }
   ],
   "source": [
    "ap = sb.relplot(x=\"AGE\",y=\"PayGapratio\", data=df_pd)\n",
    "ap.set(xlabel=\"Age\",ylabel=\"Pay Gap Ratio (Female Annual Pay/Male Median Pay)\")"
   ]
  },
  {
   "cell_type": "code",
   "execution_count": null,
   "metadata": {},
   "outputs": [],
   "source": []
  }
 ],
 "metadata": {
  "kernelspec": {
   "display_name": "Python 3",
   "language": "python",
   "name": "python3"
  },
  "language_info": {
   "codemirror_mode": {
    "name": "ipython",
    "version": 3
   },
   "file_extension": ".py",
   "mimetype": "text/x-python",
   "name": "python",
   "nbconvert_exporter": "python",
   "pygments_lexer": "ipython3",
   "version": "3.5.2"
  }
 },
 "nbformat": 4,
 "nbformat_minor": 2
}
